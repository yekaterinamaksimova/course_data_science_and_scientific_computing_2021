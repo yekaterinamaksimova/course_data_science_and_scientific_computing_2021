{
 "cells": [
  {
   "cell_type": "markdown",
   "metadata": {},
   "source": [
    "# Mode Connectivity of Neural Networks (Part 1)\n",
    "\n",
    "<br>\n",
    "\n",
    "## Intro to the Problem\n",
    "<br>\n",
    "Consider a neural network with parameters $\\theta \\in \\mathbb{R}^D$ and function $f(\\theta): \\mathbb{R}^D \\rightarrow \\mathbb{R}$ which evaluates the error/loss of the network with given set of parameters. In this view, optimization landscape is a surface defined by $(\\theta, f(\\theta))$ for all $\\theta \\in \\mathbb{R}^D$.\n",
    "\n",
    "The optimization landscape for non-convex problems, such as neural network training, typically exhibits many poor local optima and is challenging for optimization algorithms. In this project we investigate an interesting phenomenon  first described in line of works by Garipov & Draxler, called **mode connectivity**. In particular, it was shown that solutions found by SGD for large network are not isolated points in the parameter space, but rather connected via continous path on which the value of risk does not differ much from the end points."
   ]
  },
  {
   "cell_type": "markdown",
   "metadata": {},
   "source": [
    "<img src=\"ileyeofcgjsdc52q3jildv6alkk.jpeg\" alt=\"Drawing\" style=\"width: 400px;\"/>\n",
    "<br>\n",
    "<center> Fig. 1: An example of optimization landscape of non-convex problem<center>"
   ]
  },
  {
   "cell_type": "markdown",
   "metadata": {},
   "source": [
    "Notably, a simple linear interpolation between the solutions is not enough and the path ought to be constructed in more intelligent fashion. In this part of the project we implement an algorithm from **\"Loss Surfaces, Mode Connectivity, and Fast Ensembling of DNNs\"** by Timur Garipov et al., to find a suitable path between two solutions found by an optimization algorithm."
   ]
  },
  {
   "cell_type": "markdown",
   "metadata": {},
   "source": [
    "## Network Training on MNIST\n",
    "\n",
    "<br>\n",
    "\n",
    "First things first, we would need to get these two solutions. In this project we consider training a simple two-layer fully connected network for the MNIST classification task, i.e., neural network should be able to assign a correct class to the input digit image.\n",
    "\n",
    "<img src=\"two-layer.png\" alt=\"Drawing\" style=\"width: 400px;\"/>\n",
    "<br>\n",
    "<center> Fig. 2: Schematic illustration of two-layer neural network<center>\n",
    "<br>\n",
    "    \n",
    "To train a network and for further path construction manipulations we will rely on the Automatic Differentiation package called PyTorch, as it is relatively user-friendly and provides with all tools we would need."
   ]
  },
  {
   "cell_type": "code",
   "execution_count": 43,
   "metadata": {},
   "outputs": [],
   "source": [
    "# importing all necessary packages\n",
    "\n",
    "import torch\n",
    "import torch.nn as nn\n",
    "import torch.nn.functional as F\n",
    "import torch.optim as optim\n",
    "\n",
    "from torchvision import datasets, transforms\n",
    "from torch.optim.lr_scheduler import StepLR\n",
    "\n",
    "from copy import deepcopy\n",
    "\n",
    "import matplotlib.pyplot as plt\n",
    "%matplotlib inline\n",
    "plt.rcParams.update({'font.size': 14})\n",
    "\n",
    "import numpy as np"
   ]
  },
  {
   "cell_type": "markdown",
   "metadata": {},
   "source": [
    "### Minimal working examples\n",
    "\n",
    "In this section, we will try to cover the basic logics of PyTorch framework. In a nutshell, it allows to compute the derivatives for any $f : \\mathbb{R}^d \\rightarrow \\mathbb{R}$ w.r.t. the input $x \\in \\mathbb{R}^d$. The input $x$ should be either `torch.Tensor` for which `requires_grad=True` or `torch.nn.Parameter`. To illustrate consider\n",
    "\n",
    "$$\n",
    "f(x) = x_1^2 + 2 x_1 x_2 + x_2^2, \\quad x \\in \\mathbb{R}^2\n",
    "$$\n",
    "\n",
    "thus the derivatives w.r.t. $x$ can be computed as follows \n",
    "\n",
    "$$\n",
    "\\frac{\\partial f}{\\partial x_1} = 2 x_1 + 2 x_2, \\quad \\frac{\\partial f}{\\partial x_2} = 2 x_2 + 2 x_1\n",
    "$$\n",
    "\n",
    "Now let us check if PyTorch would give us a proper answer."
   ]
  },
  {
   "cell_type": "code",
   "execution_count": 2,
   "metadata": {},
   "outputs": [
    {
     "name": "stdout",
     "output_type": "stream",
     "text": [
      "tensor([4., 4.])\n"
     ]
    }
   ],
   "source": [
    "x = torch.tensor([1., 1.], requires_grad = True)  # we want derivative of f w.r.t. x in point where x = (1,1)\n",
    "f = x[0] ** 2 + 2 * x[0] * x[1] + x[1] ** 2  # define a function value at point x = (1,1)\n",
    "f.backward()  # computes a gradient w.r.t x which is stored in x.grad field\n",
    "print(x.grad)"
   ]
  },
  {
   "cell_type": "markdown",
   "metadata": {},
   "source": [
    "As one can see the output is correct since for both coordinates\n",
    "\n",
    "$$\n",
    "\\frac{\\partial f}{\\partial x_1}(1,1) = 2 x_1 + 2 x_2 = 2 \\cdot 1 + 2 \\cdot 1 = \\quad \\frac{\\partial f}{\\partial x_2}(1,1).\n",
    "$$\n",
    "\n",
    "With this in mind we can now try to implement a steepest descent to find a minimum of function $f$. Note that the global minimum is obviously allocated at any point where $x_1 = - x_2$ since $f(x) = (x_1 + x_2)^2$. \n",
    "<br>\n",
    "\n",
    "Fortunately, many steepest descent procedures are already implemented in `torch.optim`, we will use a simple one - Gradient Descent (GD). At each step we compute the gradient at current point and then make a step in the opposite direction with some \"learning rate\" $\\alpha$, formally\n",
    "\n",
    "$$\n",
    "x^{(t + 1)} = x^{(t)} - \\alpha \\cdot \\nabla f(x^{(t)}).\n",
    "$$\n",
    "\n",
    "We can continue this procedure until convergence or just fixing a maximum amount of iterations we should perform. The example code could be found below."
   ]
  },
  {
   "cell_type": "code",
   "execution_count": 3,
   "metadata": {},
   "outputs": [
    {
     "name": "stdout",
     "output_type": "stream",
     "text": [
      "tensor([6.5332e-23, 6.5332e-23], requires_grad=True)\n"
     ]
    }
   ],
   "source": [
    "x = torch.tensor([1., 1.], requires_grad = True) # initialize a starting point for GD\n",
    "\n",
    "optimizer = optim.SGD([x], lr=1e-1) # define optimizer first argument is a list of variables over which\n",
    "# we want to optimize, lr = learning rate\n",
    "\n",
    "for it in range(100): # 100 is the number of GD iterations we set\n",
    "  f = x.sum().pow(2) # for each x^t we compute the corresponding value of f to get gradient after\n",
    "  # x.sum().pow(2) gives the same result as x[0] ** 2 + 2 * x[0] * x[1] + x[1] ** 2\n",
    "  f.backward() # get the gradient at current point\n",
    "  optimizer.step() # make one optimization step\n",
    "  optimizer.zero_grad() # sets the field x.grad to zero, since otherwise on next backward \n",
    "  # the gradient would be added to the previous value -> would be wrong (i.e., grads are\n",
    "  # stored always by default unless you zero them down) \n",
    "    \n",
    "print(x) # get the value of x after 100 iterations"
   ]
  },
  {
   "cell_type": "markdown",
   "metadata": {},
   "source": [
    "What went wrong? Why did we end up in a point which is approximately $(0,0)$? The answer is: GD procedure can find any stationary point, i.e., where $\\nabla f(x) = 0$. One can check that $(0,0)$ is indeed one but not a global minimum! How can we cure this? Simply by trying more initial points and picking the one which gives the best value of $f$. However since we know that in global minimum $x_1 = - x_2$ we can cheat and initialize for instance with $x=(2,-1)$ (to not get stuck at bad (0,0) point)."
   ]
  },
  {
   "cell_type": "code",
   "execution_count": 4,
   "metadata": {},
   "outputs": [
    {
     "name": "stdout",
     "output_type": "stream",
     "text": [
      "tensor([ 1.5000, -1.5000], requires_grad=True)\n"
     ]
    }
   ],
   "source": [
    "x = torch.tensor([2., -1.], requires_grad = True) # cheating\n",
    "\n",
    "optimizer = optim.SGD([x], lr=1e-1)\n",
    "\n",
    "for it in range(100):\n",
    "  f = x.sum().pow(2)\n",
    "  f.backward()\n",
    "  optimizer.step()\n",
    "  optimizer.zero_grad()\n",
    "    \n",
    "print(x)"
   ]
  },
  {
   "cell_type": "markdown",
   "metadata": {},
   "source": [
    "Now everying is perfect since we found a point where $x_1 = -x_2$. \n",
    "\n",
    "\n",
    "##### Neural Network Training Outline\n",
    "\n",
    "Now consider a more complicated optimization procedure – neural network training. Although we will cover each step thoroughly in next section, in nutshell it can be described as follows:\n",
    "\n",
    "<br>\n",
    "Now we have a complicated function (NN) $f_{\\theta}(x)$ which depends on weights $\\theta$ and input $x$. We will focus only on classification. Consider a data $(x,y)$ ($x$ is input and $y$ is correct label for current $x$) which comes from some distribution $\\mathcal{D}$. And assume we have a measure of how good network prediction $f_{\\theta}(x)$ is compared to true $y$ - we call it $\\mathcal{L}(\\cdot, \\cdot)$. In this view, we want to find a parameters $\\theta$ which minimize the expected loss\n",
    "\n",
    "$$\n",
    "\\mathbb{E}_{(x,y) \\sim \\mathcal{D}} \\mathcal{L}(f_{\\theta}(x), y),\n",
    "$$\n",
    "\n",
    "we can do so by sampling a subset of examples from $\\mathcal{D}$ of size $B$, i.e., $\\{(x_i,y_i)\\}_{i=1}^B \\sim \\mathcal{D}^B$ on each step and computing a gradient of\n",
    "\n",
    "$$\n",
    "\\frac{1}{B} \\sum_{i=1}^M \\mathcal{L}(f_{\\theta}(x_i), y_i)\n",
    "$$\n",
    "\n",
    "w.r.t. $\\theta$ and update $\\theta$ with gradient step."
   ]
  },
  {
   "cell_type": "markdown",
   "metadata": {},
   "source": [
    "### Network Definition and Training"
   ]
  },
  {
   "cell_type": "markdown",
   "metadata": {},
   "source": [
    "#### Step 1: Dataset\n",
    "\n",
    "First we download the dataset and normalize each image for optimization stability. `train_loader` and `test_loader` are iterators for corresponding parts of the dataset."
   ]
  },
  {
   "cell_type": "code",
   "execution_count": 5,
   "metadata": {},
   "outputs": [
    {
     "name": "stdout",
     "output_type": "stream",
     "text": [
      "Downloading http://yann.lecun.com/exdb/mnist/train-images-idx3-ubyte.gz\n",
      "Failed to download (trying next):\n",
      "HTTP Error 503: Service Unavailable\n",
      "\n",
      "Downloading https://ossci-datasets.s3.amazonaws.com/mnist/train-images-idx3-ubyte.gz\n",
      "Downloading https://ossci-datasets.s3.amazonaws.com/mnist/train-images-idx3-ubyte.gz to ../data/MNIST/raw/train-images-idx3-ubyte.gz\n"
     ]
    },
    {
     "data": {
      "application/vnd.jupyter.widget-view+json": {
       "model_id": "06799f9e26694968938aaba9256d574d",
       "version_major": 2,
       "version_minor": 0
      },
      "text/plain": [
       "HBox(children=(HTML(value=''), FloatProgress(value=0.0, max=9912422.0), HTML(value='')))"
      ]
     },
     "metadata": {},
     "output_type": "display_data"
    },
    {
     "name": "stdout",
     "output_type": "stream",
     "text": [
      "\n",
      "Extracting ../data/MNIST/raw/train-images-idx3-ubyte.gz to ../data/MNIST/raw\n",
      "\n",
      "Downloading http://yann.lecun.com/exdb/mnist/train-labels-idx1-ubyte.gz\n",
      "Downloading http://yann.lecun.com/exdb/mnist/train-labels-idx1-ubyte.gz to ../data/MNIST/raw/train-labels-idx1-ubyte.gz\n"
     ]
    },
    {
     "data": {
      "application/vnd.jupyter.widget-view+json": {
       "model_id": "ffc9598e40b645ca87bbe2622a6b2e19",
       "version_major": 2,
       "version_minor": 0
      },
      "text/plain": [
       "HBox(children=(HTML(value=''), FloatProgress(value=0.0, max=28881.0), HTML(value='')))"
      ]
     },
     "metadata": {},
     "output_type": "display_data"
    },
    {
     "name": "stdout",
     "output_type": "stream",
     "text": [
      "\n",
      "Extracting ../data/MNIST/raw/train-labels-idx1-ubyte.gz to ../data/MNIST/raw\n",
      "\n",
      "Downloading http://yann.lecun.com/exdb/mnist/t10k-images-idx3-ubyte.gz\n",
      "Downloading http://yann.lecun.com/exdb/mnist/t10k-images-idx3-ubyte.gz to ../data/MNIST/raw/t10k-images-idx3-ubyte.gz\n",
      "Failed to download (trying next):\n",
      "HTTP Error 503: Service Unavailable\n",
      "\n",
      "Downloading https://ossci-datasets.s3.amazonaws.com/mnist/t10k-images-idx3-ubyte.gz\n",
      "Downloading https://ossci-datasets.s3.amazonaws.com/mnist/t10k-images-idx3-ubyte.gz to ../data/MNIST/raw/t10k-images-idx3-ubyte.gz\n"
     ]
    },
    {
     "data": {
      "application/vnd.jupyter.widget-view+json": {
       "model_id": "425b318e11ad4859ade1711252f77fdb",
       "version_major": 2,
       "version_minor": 0
      },
      "text/plain": [
       "HBox(children=(HTML(value=''), FloatProgress(value=0.0, max=1648877.0), HTML(value='')))"
      ]
     },
     "metadata": {},
     "output_type": "display_data"
    },
    {
     "name": "stdout",
     "output_type": "stream",
     "text": [
      "\n",
      "Extracting ../data/MNIST/raw/t10k-images-idx3-ubyte.gz to ../data/MNIST/raw\n",
      "\n",
      "Downloading http://yann.lecun.com/exdb/mnist/t10k-labels-idx1-ubyte.gz\n",
      "Downloading http://yann.lecun.com/exdb/mnist/t10k-labels-idx1-ubyte.gz to ../data/MNIST/raw/t10k-labels-idx1-ubyte.gz\n",
      "Failed to download (trying next):\n",
      "HTTP Error 503: Service Unavailable\n",
      "\n",
      "Downloading https://ossci-datasets.s3.amazonaws.com/mnist/t10k-labels-idx1-ubyte.gz\n",
      "Downloading https://ossci-datasets.s3.amazonaws.com/mnist/t10k-labels-idx1-ubyte.gz to ../data/MNIST/raw/t10k-labels-idx1-ubyte.gz\n"
     ]
    },
    {
     "data": {
      "application/vnd.jupyter.widget-view+json": {
       "model_id": "fdf4af7d4eee4446ba630b7da5a51423",
       "version_major": 2,
       "version_minor": 0
      },
      "text/plain": [
       "HBox(children=(HTML(value=''), FloatProgress(value=0.0, max=4542.0), HTML(value='')))"
      ]
     },
     "metadata": {},
     "output_type": "display_data"
    },
    {
     "name": "stdout",
     "output_type": "stream",
     "text": [
      "\n",
      "Extracting ../data/MNIST/raw/t10k-labels-idx1-ubyte.gz to ../data/MNIST/raw\n",
      "\n",
      "Processing...\n",
      "Done!\n"
     ]
    },
    {
     "name": "stderr",
     "output_type": "stream",
     "text": [
      "/home/aehrmann/anaconda3/lib/python3.8/site-packages/torchvision/datasets/mnist.py:502: UserWarning: The given NumPy array is not writeable, and PyTorch does not support non-writeable tensors. This means you can write to the underlying (supposedly non-writeable) NumPy array using the tensor. You may want to copy the array to protect its data or make it writeable before converting it to a tensor. This type of warning will be suppressed for the rest of this program. (Triggered internally at  /opt/conda/conda-bld/pytorch_1616554788289/work/torch/csrc/utils/tensor_numpy.cpp:143.)\n",
      "  return torch.from_numpy(parsed.astype(m[2], copy=False)).view(*s)\n"
     ]
    }
   ],
   "source": [
    "# convert image to tensor for PyTorch, and normalize with mean and std for stability\n",
    "transform = transforms.Compose([transforms.ToTensor(), transforms.Normalize((0.1307,), (0.3081,))])\n",
    "\n",
    "# downloading training and test parts of MNIST dataset\n",
    "dataset1 = datasets.MNIST('../data', train=True, download=True, transform=transform)\n",
    "dataset2 = datasets.MNIST('../data', train=False, transform=transform)\n",
    "\n",
    "# get train and test samplers with B=100 for train and B=1000 for test\n",
    "train_loader = torch.utils.data.DataLoader(dataset1, batch_size=100, shuffle=True)\n",
    "test_loader = torch.utils.data.DataLoader(dataset2, batch_size=1000, shuffle=False)"
   ]
  },
  {
   "cell_type": "markdown",
   "metadata": {},
   "source": [
    "Below you can see the sample images from the dataset."
   ]
  },
  {
   "cell_type": "code",
   "execution_count": 56,
   "metadata": {},
   "outputs": [
    {
     "data": {
      "image/png": "[encoded data removed]",
      "text/plain": [
       "<Figure size 720x360 with 8 Axes>"
      ]
     },
     "metadata": {
      "needs_background": "light"
     },
     "output_type": "display_data"
    }
   ],
   "source": [
    "fig, ax = plt.subplots(nrows=2, ncols=4, figsize=(10,5))\n",
    "\n",
    "data = next(iter(test_loader))[0][:8]\n",
    "for i in range(8):\n",
    "  ax[i // 4][i % 4].imshow(data[i].numpy()[0,:,:])\n",
    "  ax[i // 4][i % 4].axis('off')\n",
    "# plt.savefig('../figures/modeconnectivity_1_mnist.pdf', bbox_inches='tight')\n",
    "plt.show()"
   ]
  },
  {
   "cell_type": "markdown",
   "metadata": {},
   "source": [
    "#### Step 2: Network Definition\n",
    "\n",
    "For this task we will train a two-layer network with 500 hidden units. Since each MNIST image has size $28 \\times 28$, the first linear layer has shape $(28 \\times 28) \\times 500$. As the number of classes for digits is equal to $10$, the final layer has shape $500 \\times 10$. As an activation function we will use Rectified Linear Unit (`nn.ReLU`). **The network outputs the vector of size 10 which corresponds to probability of each class**.\n",
    "\n",
    "\n",
    "**Task1:** Implement a forward pass for this network which consists of\n",
    "\n",
    "$$\n",
    "\\textrm{input} \\rightarrow \\textrm{Linear layer 1} \\rightarrow \\textrm{ReLU} \\rightarrow \\textrm{Linear layer 2}\n",
    "$$\n",
    "\n",
    "in corresponding function. Each layer or activation output on input $x$ can be obtained calling\n",
    "\n",
    "$$\n",
    "\\textrm{layer/act}(x)\n",
    "$$\n",
    "\n",
    "The forward pass for the model on input is called in the same fashion."
   ]
  },
  {
   "cell_type": "code",
   "execution_count": 7,
   "metadata": {},
   "outputs": [],
   "source": [
    "class FCN(nn.Module):\n",
    "    \n",
    "    def __init__(self):\n",
    "        super(FCN, self).__init__()\n",
    "        self.fc1 = nn.Linear(28 * 28, 500)\n",
    "        self.fc2 = nn.Linear(500, 10)\n",
    "        self.act = nn.ReLU()\n",
    "        \n",
    "    def forward(self, x):\n",
    "        x = self.fc1(x)\n",
    "        x = self.act(x)\n",
    "        x = self.fc2(x)\n",
    "        return x"
   ]
  },
  {
   "cell_type": "markdown",
   "metadata": {},
   "source": [
    "All network parameters can be accessed via `.parameters()` method."
   ]
  },
  {
   "cell_type": "markdown",
   "metadata": {},
   "source": [
    "#### Step 3: Training Epoch\n",
    "\n",
    "For classification task we will use $\\mathcal{L}$ which is cross-entropy loss. It can be accessed by calling `F.cross_entropy(output, target)`, where `output` is the result of forward pass through the model and `target` are true labels.\n",
    "\n",
    "**Task1:**\n",
    "In cell bellow implement one step of optimization procedure:\n",
    "\n",
    "*1)* Obtain output for current subset of dataset, i.e., `data`\n",
    "\n",
    "*2)* Compute loss objective on current `output` and `target`\n",
    "\n",
    "*3)* Compute the gradient update and make a step\n",
    "\n",
    "**Task2:** In addition, it is helpful to see that the loss is decreasing during iterations. Thus, implement progress tracker which will print the loss value periodically (say each 60 steps <=> `batch_idx % 60 == 0` ).\n"
   ]
  },
  {
   "cell_type": "code",
   "execution_count": 8,
   "metadata": {},
   "outputs": [],
   "source": [
    "def train(model, train_loader, optimizer, epoch):\n",
    "    model.train()\n",
    "    running_loss = 0.0\n",
    "    for batch_idx, (data, target) in enumerate(train_loader): # sample subset of dataset - (x,y)\n",
    "        # input\n",
    "        data = data.view(-1, 28 * 28) # reshape 2d image to vector of size 28x28\n",
    "        \n",
    "        # => Implement a computation of gradient for current batch of data\n",
    "\n",
    "        #forward propagation\n",
    "        optimizer.zero_grad()\n",
    "        output = model(data)\n",
    "#         output = model.forward(data)\n",
    "        #lost function\n",
    "        L = F.cross_entropy(output, target)\n",
    "        #back propagation \n",
    "        L.backward()\n",
    "        optimizer.step()  \n",
    "        \n",
    "        # => Implement progress tracker\n",
    "        running_loss += L.item()\n",
    "        if batch_idx % 60 == 0:\n",
    "            print(\"Loss at step {} is {}\".format(batch_idx, running_loss/60))\n",
    "            running_loss = 0.0"
   ]
  },
  {
   "cell_type": "markdown",
   "metadata": {},
   "source": [
    "#### Step 4: Test epoch\n",
    "\n",
    "As the model is trained on the training part of the dataset a good performance measurement is to track loss and accuracy\n",
    "\n",
    "$$\n",
    "\\textrm{accuracy(output, target)} =  \\mathbb{I}\\{\\arg\\max_{i}\\textrm{output}_i = target\\},\n",
    "$$\n",
    "\n",
    "i.e., if max probability is assigned to a correct class, which model achieves on a test part of the dataset which it did not see.\n",
    "\n",
    "\n",
    "**Task 1:** Compute the loss objective and accuracy averaged over the whole test dataset. Print it and return average test loss value as function output."
   ]
  },
  {
   "cell_type": "code",
   "execution_count": 9,
   "metadata": {},
   "outputs": [],
   "source": [
    "def test(model, test_loader, print_par = False):\n",
    "    model.eval()\n",
    "    test_loss = 0\n",
    "    accuracy = 0\n",
    "    with torch.no_grad(): # to not store the gradients (i.e., ease memory requirement)\n",
    "        for data, target in test_loader:\n",
    "            data = data.view(-1, 28 * 28)\n",
    "    # ===> Implement progress tracker\n",
    "#             x = torch.tensor(data, requires_grad = True)\n",
    "            output = model(data)\n",
    "            test_loss += F.cross_entropy(output, target).item()\n",
    "            pred = output.argmax(dim=1, keepdim=True)\n",
    "            accuracy += pred.eq(target.view_as(pred)).sum().item()\n",
    "    test_loss /= len(test_loader.dataset)\n",
    "    accuracy /= len(test_loader.dataset)\n",
    "    if print_par == True:\n",
    "        print('Average loss on the test data: ', test_loss)\n",
    "        print('Average accuracy on the test data: {:.2f}%'.format(100* accuracy))\n",
    "    return test_loss"
   ]
  },
  {
   "cell_type": "markdown",
   "metadata": {},
   "source": [
    "#### Step 5:  Train two networks for connectivity experiments\n",
    "\n",
    "Now we have both training and test functions in our hands. Train function implements one pass over the whole dataset.\n",
    "\n",
    "**Task 1:** Train first network to test accuracy around **97-98%**.\n",
    "\n",
    "*1)* Define optimizer over network parameters with some learning rate.\n",
    "\n",
    "*2) (optional)* For better results use `StepLR` (step learning rate) to decay learning rate after each epoch\n",
    "\n",
    "*3)* After each training call in loop call test function to see resulting model performance\n",
    "\n",
    "*4)* Number of epochs (i.e., train calls) is up to you, but around 15 should be enough"
   ]
  },
  {
   "cell_type": "code",
   "execution_count": 10,
   "metadata": {
    "scrolled": true
   },
   "outputs": [
    {
     "name": "stdout",
     "output_type": "stream",
     "text": [
      "Epoch  1 . Learning rate  [0.1]\n",
      "Loss at step 0 is 0.03815782070159912\n",
      "Loss at step 60 is 0.6888955334822336\n",
      "Loss at step 120 is 0.3602431997656822\n",
      "Loss at step 180 is 0.30368077258268994\n",
      "Loss at step 240 is 0.27354172989726067\n",
      "Loss at step 300 is 0.2373318689564864\n",
      "Loss at step 360 is 0.21401233188807964\n",
      "Loss at step 420 is 0.21194759309291838\n",
      "Loss at step 480 is 0.18688560364147028\n",
      "Loss at step 540 is 0.19290452239414055\n",
      "Epoch  2 . Learning rate  [0.1]\n",
      "Loss at step 0 is 0.004212510585784912\n",
      "Loss at step 60 is 0.15081902369856834\n",
      "Loss at step 120 is 0.1393517286827167\n",
      "Loss at step 180 is 0.1310139414543907\n",
      "Loss at step 240 is 0.13466457867374024\n",
      "Loss at step 300 is 0.12017172587414583\n",
      "Loss at step 360 is 0.12337943594902753\n",
      "Loss at step 420 is 0.12150562504927317\n",
      "Loss at step 480 is 0.11617477520679434\n",
      "Loss at step 540 is 0.10758005380630493\n",
      "Epoch  3 . Learning rate  [0.1]\n",
      "Loss at step 0 is 0.002394422640403112\n",
      "Loss at step 60 is 0.08942736607665817\n",
      "Loss at step 120 is 0.10008408632129431\n",
      "Loss at step 180 is 0.09238602202385664\n",
      "Loss at step 240 is 0.08498969400922457\n",
      "Loss at step 300 is 0.09860328653206428\n",
      "Loss at step 360 is 0.08117678972582022\n",
      "Loss at step 420 is 0.08651032522320748\n",
      "Loss at step 480 is 0.07928865170106292\n",
      "Loss at step 540 is 0.08025253643281757\n",
      "Epoch  4 . Learning rate  [0.1]\n",
      "Loss at step 0 is 0.0009071258207162221\n",
      "Loss at step 60 is 0.069024445861578\n",
      "Loss at step 120 is 0.06571006827677289\n",
      "Loss at step 180 is 0.07327996560682853\n",
      "Loss at step 240 is 0.06396786648159226\n",
      "Loss at step 300 is 0.06728615051445862\n",
      "Loss at step 360 is 0.06778955433207254\n",
      "Loss at step 420 is 0.06498715439811349\n",
      "Loss at step 480 is 0.05969455827338\n",
      "Loss at step 540 is 0.070823382306844\n",
      "Epoch  5 . Learning rate  [0.1]\n",
      "Loss at step 0 is 0.0009928050140539805\n",
      "Loss at step 60 is 0.04934608433395624\n",
      "Loss at step 120 is 0.050695574702695013\n",
      "Loss at step 180 is 0.0544049228541553\n",
      "Loss at step 240 is 0.05061964974738657\n",
      "Loss at step 300 is 0.05761793903075159\n",
      "Loss at step 360 is 0.061196573761602244\n",
      "Loss at step 420 is 0.049116860857854286\n",
      "Loss at step 480 is 0.04652245876689752\n",
      "Loss at step 540 is 0.0525877516095837\n",
      "Epoch  6 . Learning rate  [0.08000000000000002]\n",
      "Loss at step 0 is 0.0009219060962398847\n",
      "Loss at step 60 is 0.03833477087318897\n",
      "Loss at step 120 is 0.04627927046579619\n",
      "Loss at step 180 is 0.044835913678010306\n",
      "Loss at step 240 is 0.03647123033491274\n",
      "Loss at step 300 is 0.038090441236272456\n",
      "Loss at step 360 is 0.03883043049524228\n",
      "Loss at step 420 is 0.03612121402596434\n",
      "Loss at step 480 is 0.03307760128130515\n",
      "Loss at step 540 is 0.04370419022161513\n",
      "Epoch  7 . Learning rate  [0.08000000000000002]\n",
      "Loss at step 0 is 0.0002788265235722065\n",
      "Loss at step 60 is 0.03382799550890923\n",
      "Loss at step 120 is 0.03584334847206871\n",
      "Loss at step 180 is 0.03776335700725516\n",
      "Loss at step 240 is 0.032399937766604124\n",
      "Loss at step 300 is 0.02832989312397937\n",
      "Loss at step 360 is 0.03367108214491357\n",
      "Loss at step 420 is 0.033769371422628564\n",
      "Loss at step 480 is 0.03377282388197879\n",
      "Loss at step 540 is 0.03355847817535202\n",
      "Epoch  8 . Learning rate  [0.08000000000000002]\n",
      "Loss at step 0 is 0.0001681641365091006\n",
      "Loss at step 60 is 0.028533762460574506\n",
      "Loss at step 120 is 0.025326026106874146\n",
      "Loss at step 180 is 0.02582266298122704\n",
      "Loss at step 240 is 0.030663918393353622\n",
      "Loss at step 300 is 0.027709054100948077\n",
      "Loss at step 360 is 0.03052494632235418\n",
      "Loss at step 420 is 0.02745335593353957\n",
      "Loss at step 480 is 0.03031654474325478\n",
      "Loss at step 540 is 0.028278292591373124\n",
      "Epoch  9 . Learning rate  [0.08000000000000002]\n",
      "Loss at step 0 is 0.0002092098817229271\n",
      "Loss at step 60 is 0.022588936324852208\n",
      "Loss at step 120 is 0.02298626977329453\n",
      "Loss at step 180 is 0.02600683122097204\n",
      "Loss at step 240 is 0.02089258752918492\n",
      "Loss at step 300 is 0.02431854304547111\n",
      "Loss at step 360 is 0.02252217660813282\n",
      "Loss at step 420 is 0.02494203532114625\n",
      "Loss at step 480 is 0.025554782749774557\n",
      "Loss at step 540 is 0.027835336017111936\n",
      "Epoch  10 . Learning rate  [0.08000000000000002]\n",
      "Loss at step 0 is 0.0001866930164396763\n",
      "Loss at step 60 is 0.01816052181335787\n",
      "Loss at step 120 is 0.021356047713197768\n",
      "Loss at step 180 is 0.018892804284890492\n",
      "Loss at step 240 is 0.01883561353509625\n",
      "Loss at step 300 is 0.021309245858962336\n",
      "Loss at step 360 is 0.01938646976292754\n",
      "Loss at step 420 is 0.021334293795128665\n",
      "Loss at step 480 is 0.022634271637070925\n",
      "Loss at step 540 is 0.02059436449004958\n",
      "Epoch  11 . Learning rate  [0.06400000000000002]\n",
      "Loss at step 0 is 0.00024206282881398996\n",
      "Loss at step 60 is 0.016872260083133975\n",
      "Loss at step 120 is 0.01750345464485387\n",
      "Loss at step 180 is 0.01577595491738369\n",
      "Loss at step 240 is 0.01763008375807355\n",
      "Loss at step 300 is 0.015423291840124875\n",
      "Loss at step 360 is 0.017925709773165485\n",
      "Loss at step 420 is 0.01782471511978656\n",
      "Loss at step 480 is 0.014395594678353519\n",
      "Loss at step 540 is 0.018014727695845067\n",
      "Epoch  12 . Learning rate  [0.06400000000000002]\n",
      "Loss at step 0 is 0.00011389443340400854\n",
      "Loss at step 60 is 0.015594411167937021\n",
      "Loss at step 120 is 0.013612530465858677\n",
      "Loss at step 180 is 0.01333953149151057\n",
      "Loss at step 240 is 0.015812991578908017\n",
      "Loss at step 300 is 0.015116675291210413\n",
      "Loss at step 360 is 0.01565323502290994\n",
      "Loss at step 420 is 0.01473821389566486\n",
      "Loss at step 480 is 0.01681360083942612\n",
      "Loss at step 540 is 0.015510731617299219\n",
      "Epoch  13 . Learning rate  [0.06400000000000002]\n",
      "Loss at step 0 is 0.0001256727147847414\n",
      "Loss at step 60 is 0.013677953688117365\n",
      "Loss at step 120 is 0.011633969959802926\n",
      "Loss at step 180 is 0.013122021577631433\n",
      "Loss at step 240 is 0.013650637628355373\n",
      "Loss at step 300 is 0.01236416973406449\n",
      "Loss at step 360 is 0.013317650882527232\n",
      "Loss at step 420 is 0.012509009835775941\n",
      "Loss at step 480 is 0.014817613603857657\n",
      "Loss at step 540 is 0.013104113932543744\n",
      "Epoch  14 . Learning rate  [0.06400000000000002]\n",
      "Loss at step 0 is 0.0004755742847919464\n",
      "Loss at step 60 is 0.010338381856369476\n",
      "Loss at step 120 is 0.010517127817729488\n",
      "Loss at step 180 is 0.011873167520388962\n",
      "Loss at step 240 is 0.010898737132083624\n",
      "Loss at step 300 is 0.011852158943656831\n",
      "Loss at step 360 is 0.009709916387995085\n",
      "Loss at step 420 is 0.01500458993250504\n",
      "Loss at step 480 is 0.013112846354488283\n",
      "Loss at step 540 is 0.012431159984165182\n",
      "Epoch  15 . Learning rate  [0.06400000000000002]\n",
      "Loss at step 0 is 9.136728476732969e-05\n",
      "Loss at step 60 is 0.010475611484919985\n",
      "Loss at step 120 is 0.009172058509041866\n",
      "Loss at step 180 is 0.012944326747674494\n",
      "Loss at step 240 is 0.013035999851611753\n",
      "Loss at step 300 is 0.010479501048879077\n",
      "Loss at step 360 is 0.011023945027651886\n",
      "Loss at step 420 is 0.01054773092813169\n",
      "Loss at step 480 is 0.009761423233430832\n",
      "Loss at step 540 is 0.011405441246461123\n"
     ]
    }
   ],
   "source": [
    "model = FCN()\n",
    "optimizer = optim.SGD(model.parameters(), lr=1e-1) \n",
    "# ===> Implement training\n",
    "n_epoch = 15\n",
    "scheduler = optim.lr_scheduler.StepLR(optimizer, step_size=5, gamma=0.8)\n",
    "\n",
    "# ===> Train + test step with optional StepLR call\n",
    "for epoch in range(1, n_epoch + 1):\n",
    "    print('Epoch ', epoch, '. Learning rate ', scheduler.get_last_lr())\n",
    "    train(model, train_loader, optimizer, epoch)\n",
    "    av_test_loss = test(model, test_loader, print_par = False)\n",
    "    scheduler.step()\n",
    "#     break"
   ]
  },
  {
   "cell_type": "markdown",
   "metadata": {},
   "source": [
    "Here we save this model for later connectivity experiments"
   ]
  },
  {
   "cell_type": "code",
   "execution_count": 11,
   "metadata": {},
   "outputs": [],
   "source": [
    "model_1 = deepcopy(model)"
   ]
  },
  {
   "cell_type": "markdown",
   "metadata": {},
   "source": [
    "**Task 2:** Train the second model for path construction."
   ]
  },
  {
   "cell_type": "code",
   "execution_count": 12,
   "metadata": {
    "scrolled": true
   },
   "outputs": [
    {
     "name": "stdout",
     "output_type": "stream",
     "text": [
      "Epoch  1 . Learning rate  [0.1]\n",
      "Loss at step 0 is 0.0391575813293457\n",
      "Loss at step 60 is 0.6940304507811864\n",
      "Loss at step 120 is 0.3539195142686367\n",
      "Loss at step 180 is 0.30215641036629676\n",
      "Loss at step 240 is 0.2642465975135565\n",
      "Loss at step 300 is 0.2510444886982441\n",
      "Loss at step 360 is 0.22895626376072567\n",
      "Loss at step 420 is 0.22005769448975723\n",
      "Loss at step 480 is 0.18935196213424205\n",
      "Loss at step 540 is 0.1692797051742673\n",
      "Average loss on the test data:  0.00014745854921638965\n",
      "Average accuracy on the test data: 95.66%\n",
      "Epoch  2 . Learning rate  [0.1]\n",
      "Loss at step 0 is 0.0013865109533071518\n",
      "Loss at step 60 is 0.1482075072824955\n",
      "Loss at step 120 is 0.14565945013115802\n",
      "Loss at step 180 is 0.13718631081283092\n",
      "Loss at step 240 is 0.1387525443608562\n",
      "Loss at step 300 is 0.12775571203480166\n",
      "Loss at step 360 is 0.12028215695172548\n",
      "Loss at step 420 is 0.12493205517530441\n",
      "Loss at step 480 is 0.11318618000174561\n",
      "Loss at step 540 is 0.11209277473390103\n",
      "Average loss on the test data:  0.00010098023023456335\n",
      "Average accuracy on the test data: 97.02%\n",
      "Epoch  3 . Learning rate  [0.1]\n",
      "Loss at step 0 is 0.0010386489952603976\n",
      "Loss at step 60 is 0.0943543533484141\n",
      "Loss at step 120 is 0.09081537947058678\n",
      "Loss at step 180 is 0.09311370238040885\n",
      "Loss at step 240 is 0.08305689391369621\n",
      "Loss at step 300 is 0.09016124571984013\n",
      "Loss at step 360 is 0.08842976146067182\n",
      "Loss at step 420 is 0.08578149840856591\n",
      "Loss at step 480 is 0.0824739225829641\n",
      "Loss at step 540 is 0.07788311066105962\n",
      "Average loss on the test data:  8.767179753631353e-05\n",
      "Average accuracy on the test data: 97.34%\n",
      "Epoch  4 . Learning rate  [0.1]\n",
      "Loss at step 0 is 0.0013841267675161362\n",
      "Loss at step 60 is 0.07544994177296757\n",
      "Loss at step 120 is 0.07239921533813079\n",
      "Loss at step 180 is 0.0594113745726645\n",
      "Loss at step 240 is 0.059827047120779756\n",
      "Loss at step 300 is 0.06749221545954545\n",
      "Loss at step 360 is 0.061946914376070104\n",
      "Loss at step 420 is 0.0710877903426687\n",
      "Loss at step 480 is 0.06070990739390254\n",
      "Loss at step 540 is 0.05905786785297096\n",
      "Average loss on the test data:  7.513520978391171e-05\n",
      "Average accuracy on the test data: 97.78%\n",
      "Epoch  5 . Learning rate  [0.1]\n",
      "Loss at step 0 is 0.0017819275458653768\n",
      "Loss at step 60 is 0.053261482855305076\n",
      "Loss at step 120 is 0.047547092707827684\n",
      "Loss at step 180 is 0.0551025421358645\n",
      "Loss at step 240 is 0.05675269185254971\n",
      "Loss at step 300 is 0.05350931465315322\n",
      "Loss at step 360 is 0.05152942516530554\n",
      "Loss at step 420 is 0.043907757848501205\n",
      "Loss at step 480 is 0.0507401633542031\n",
      "Loss at step 540 is 0.0521086386560152\n",
      "Average loss on the test data:  7.130379984155297e-05\n",
      "Average accuracy on the test data: 97.87%\n",
      "Epoch  6 . Learning rate  [0.08000000000000002]\n",
      "Loss at step 0 is 0.0008150314291318258\n",
      "Loss at step 60 is 0.03831667181414863\n",
      "Loss at step 120 is 0.039771496302758655\n",
      "Loss at step 180 is 0.04433997759285072\n",
      "Loss at step 240 is 0.03862243623783191\n",
      "Loss at step 300 is 0.0432562917470932\n",
      "Loss at step 360 is 0.03874439126811922\n",
      "Loss at step 420 is 0.04156427381870647\n",
      "Loss at step 480 is 0.041199979527542986\n",
      "Loss at step 540 is 0.034959098262091474\n",
      "Average loss on the test data:  6.833481416106224e-05\n",
      "Average accuracy on the test data: 98.00%\n",
      "Epoch  7 . Learning rate  [0.08000000000000002]\n",
      "Loss at step 0 is 8.230486419051886e-05\n",
      "Loss at step 60 is 0.033801868992547196\n",
      "Loss at step 120 is 0.03337312216560046\n",
      "Loss at step 180 is 0.035214082105085254\n",
      "Loss at step 240 is 0.03841175896426042\n",
      "Loss at step 300 is 0.031186702568084\n",
      "Loss at step 360 is 0.03457014723680914\n",
      "Loss at step 420 is 0.03396109202876687\n",
      "Loss at step 480 is 0.032732647548740106\n",
      "Loss at step 540 is 0.033058647982155284\n",
      "Average loss on the test data:  6.136161275207996e-05\n",
      "Average accuracy on the test data: 98.05%\n",
      "Epoch  8 . Learning rate  [0.08000000000000002]\n",
      "Loss at step 0 is 0.000964400793115298\n",
      "Loss at step 60 is 0.030946758626184116\n",
      "Loss at step 120 is 0.02944153662926207\n",
      "Loss at step 180 is 0.02455070362581561\n",
      "Loss at step 240 is 0.03228858983299385\n",
      "Loss at step 300 is 0.02620421237467478\n",
      "Loss at step 360 is 0.029542236130995055\n",
      "Loss at step 420 is 0.02968067384014527\n",
      "Loss at step 480 is 0.027905334543902427\n",
      "Loss at step 540 is 0.02601910346808533\n",
      "Average loss on the test data:  5.998724987730384e-05\n",
      "Average accuracy on the test data: 98.09%\n",
      "Epoch  9 . Learning rate  [0.08000000000000002]\n",
      "Loss at step 0 is 0.0002132787834852934\n",
      "Loss at step 60 is 0.02445939585644131\n",
      "Loss at step 120 is 0.021244196974051496\n",
      "Loss at step 180 is 0.02419332763335357\n",
      "Loss at step 240 is 0.023365029863392315\n",
      "Loss at step 300 is 0.02844012384302914\n",
      "Loss at step 360 is 0.02098667245203008\n",
      "Loss at step 420 is 0.020880220069860417\n",
      "Loss at step 480 is 0.028251999461402496\n",
      "Loss at step 540 is 0.025796937698032707\n",
      "Average loss on the test data:  5.9843283239752056e-05\n",
      "Average accuracy on the test data: 98.16%\n",
      "Epoch  10 . Learning rate  [0.08000000000000002]\n",
      "Loss at step 0 is 0.00023819816609223685\n",
      "Loss at step 60 is 0.020927343843504788\n",
      "Loss at step 120 is 0.01908350863183538\n",
      "Loss at step 180 is 0.022129957114035884\n",
      "Loss at step 240 is 0.02322609044301013\n",
      "Loss at step 300 is 0.01714042217936367\n",
      "Loss at step 360 is 0.024138219941717883\n",
      "Loss at step 420 is 0.019502319279126823\n",
      "Loss at step 480 is 0.02441435484215617\n",
      "Loss at step 540 is 0.017563405582526077\n",
      "Average loss on the test data:  5.763590559363365e-05\n",
      "Average accuracy on the test data: 98.24%\n",
      "Epoch  11 . Learning rate  [0.06400000000000002]\n",
      "Loss at step 0 is 0.00032645383228858315\n",
      "Loss at step 60 is 0.016660358749019603\n",
      "Loss at step 120 is 0.018508731174127508\n",
      "Loss at step 180 is 0.016446918776879708\n",
      "Loss at step 240 is 0.01816074353797982\n",
      "Loss at step 300 is 0.015332665240081648\n",
      "Loss at step 360 is 0.017857842915691435\n",
      "Loss at step 420 is 0.015074455027934164\n",
      "Loss at step 480 is 0.014949003618676215\n",
      "Loss at step 540 is 0.022416246527185043\n",
      "Average loss on the test data:  5.8018490578979254e-05\n",
      "Average accuracy on the test data: 98.17%\n",
      "Epoch  12 . Learning rate  [0.06400000000000002]\n",
      "Loss at step 0 is 0.0003929547965526581\n",
      "Loss at step 60 is 0.014609847516597559\n",
      "Loss at step 120 is 0.01532408706843853\n",
      "Loss at step 180 is 0.012154362439954032\n",
      "Loss at step 240 is 0.012316851046246786\n",
      "Loss at step 300 is 0.01742922527870784\n",
      "Loss at step 360 is 0.014616946286211411\n",
      "Loss at step 420 is 0.016754709525654714\n",
      "Loss at step 480 is 0.016997974090433368\n",
      "Loss at step 540 is 0.015922642367271086\n",
      "Average loss on the test data:  5.856995061039924e-05\n",
      "Average accuracy on the test data: 98.08%\n",
      "Epoch  13 . Learning rate  [0.06400000000000002]\n",
      "Loss at step 0 is 0.00018704462175567945\n",
      "Loss at step 60 is 0.012433188715173552\n",
      "Loss at step 120 is 0.01433293252872924\n",
      "Loss at step 180 is 0.010902566154254601\n",
      "Loss at step 240 is 0.015393789031077177\n",
      "Loss at step 300 is 0.012539296364411711\n",
      "Loss at step 360 is 0.013837528801135097\n",
      "Loss at step 420 is 0.016630632088830075\n",
      "Loss at step 480 is 0.013817363344909002\n",
      "Loss at step 540 is 0.014489934290759265\n",
      "Average loss on the test data:  5.6210698373615745e-05\n",
      "Average accuracy on the test data: 98.25%\n",
      "Epoch  14 . Learning rate  [0.06400000000000002]\n",
      "Loss at step 0 is 0.0001543852345397075\n",
      "Loss at step 60 is 0.013194148316203306\n",
      "Loss at step 120 is 0.011318700446281582\n",
      "Loss at step 180 is 0.011166532384231686\n",
      "Loss at step 240 is 0.011920632313316066\n",
      "Loss at step 300 is 0.014086043671704828\n",
      "Loss at step 360 is 0.011968192248605191\n",
      "Loss at step 420 is 0.011816852376796305\n",
      "Loss at step 480 is 0.012369417573790998\n",
      "Loss at step 540 is 0.011293077218579129\n",
      "Average loss on the test data:  5.6726608704775575e-05\n",
      "Average accuracy on the test data: 98.31%\n",
      "Epoch  15 . Learning rate  [0.06400000000000002]\n",
      "Loss at step 0 is 0.0004160519689321518\n",
      "Loss at step 60 is 0.010065175938264777\n",
      "Loss at step 120 is 0.010596143850125372\n",
      "Loss at step 180 is 0.012401382753159851\n",
      "Loss at step 240 is 0.011201088619418442\n",
      "Loss at step 300 is 0.011240710027050228\n",
      "Loss at step 360 is 0.01068690203052635\n",
      "Loss at step 420 is 0.009918811870738864\n",
      "Loss at step 480 is 0.011140873236581684\n",
      "Loss at step 540 is 0.011938473644355933\n",
      "Average loss on the test data:  5.6505977176129816e-05\n",
      "Average accuracy on the test data: 98.25%\n"
     ]
    }
   ],
   "source": [
    "model = FCN()\n",
    "optimizer = optim.SGD(model.parameters(), lr=1e-1) \n",
    "# ===> Implement training\n",
    "n_epoch = 15\n",
    "scheduler = optim.lr_scheduler.StepLR(optimizer, step_size=5, gamma=0.8)\n",
    "\n",
    "# ===> Train + test step with optional StepLR call\n",
    "for epoch in range(1, n_epoch + 1):\n",
    "    print('Epoch ', epoch, '. Learning rate ', scheduler.get_last_lr())\n",
    "    train(model, train_loader, optimizer, epoch)\n",
    "    av_test_loss = test(model, test_loader, print_par = True)\n",
    "    scheduler.step()\n",
    "#     break"
   ]
  },
  {
   "cell_type": "markdown",
   "metadata": {},
   "source": [
    "Saving resulting model for further usage."
   ]
  },
  {
   "cell_type": "code",
   "execution_count": 13,
   "metadata": {},
   "outputs": [],
   "source": [
    "model_2 = deepcopy(model)"
   ]
  },
  {
   "cell_type": "markdown",
   "metadata": {},
   "source": [
    "## Path construction\n",
    "\n",
    "In this section we will construct a simple two-segment linear path of low loss between two solutions. The path between network parameters $\\theta_1$ and $\\theta_2$ has the following parametric form\n",
    "\n",
    "$$\n",
    "\\pi(t) = \n",
    "\\begin{cases} 2((0.5-t)\\theta_1 + t\\theta), \\quad t \\in [0,0.5] \\\\\n",
    "2(t\\theta_2 + (0.5-t)\\theta), \\quad t \\in [0.5,1] \n",
    "\\end{cases}.\n",
    "$$\n",
    "\n",
    "We aim to find $\\theta$ such that the value of risk for any $t \\in [0,1]$ is small, i.e.,\n",
    "\n",
    "$$\n",
    "\\mathbb{E}_{(x,y) \\sim \\mathcal{D}} \\mathcal{L}(f_{\\pi(t)}(x), y) \\leq \\max[ \\mathbb{E}_{(x,y) \\sim \\mathcal{D}} \\mathcal{L}(f_{\\theta_1}(x), y), \\mathbb{E}_{(x,y) \\sim \\mathcal{D}} \\mathcal{L}(f_{\\theta_2}(x), y)] + \\varepsilon,\n",
    "$$\n",
    "\n",
    "does not exceed the value of both ends of the network plus some small value. How can we achieve that? The work around is quite simple:\n",
    "\n",
    "*1)* for each part of training dataset, i.e., `(data, target)` pair from one iteration over `train_loader` sample $t \\sim \\textrm{Uniform[0,1]}$\n",
    "\n",
    "*2)* Compute the loss on this pair for network with parameters $\\pi(t)$\n",
    "\n",
    "*3)* Compute derivatives w.r.t. $\\theta$ to minimize the loss and make a step of optimizer\n",
    "\n",
    "*4)* Repeat above procedure for several epochs\n",
    "\n",
    "\n",
    "\n",
    "\n",
    "**Technical note:** Due to restrictions of PyTorch we will use `CurveFCN` class below to insert the parameter values from the path in order to allow backpropagation."
   ]
  },
  {
   "cell_type": "code",
   "execution_count": 14,
   "metadata": {},
   "outputs": [],
   "source": [
    "class Linear(nn.Module):\n",
    "    \n",
    "    def __init__(self, weight, bias):\n",
    "        super(Linear, self).__init__()\n",
    "        self.weight = weight\n",
    "        self.bias = bias\n",
    "        \n",
    "    def forward(self, x):\n",
    "        return F.linear(x, self.weight, self.bias)\n",
    "\n",
    "class CurveFCN(nn.Module):\n",
    "    \n",
    "    def __init__(self, weight_1, bias_1, weight_2, bias_2):\n",
    "        super(CurveFCN, self).__init__()\n",
    "        self.fc1 = Linear(weight_1, bias_1)\n",
    "        self.fc2 = Linear(weight_2, bias_2)\n",
    "        self.act = nn.ReLU()\n",
    "        \n",
    "    def forward(self, x):\n",
    "        output = self.act(self.fc1(x))\n",
    "        output = self.fc2(output)\n",
    "        return output"
   ]
  },
  {
   "cell_type": "markdown",
   "metadata": {},
   "source": [
    "**Task 1:** Given $\\theta_1 = \\textrm{start}$, $\\theta_2 = \\textrm{end}$, $\\theta = \\textrm{middle}$ and time step \n",
    "$t$ implement a function below which returns a new point which corresponds to $\\pi(t)$. \n",
    "\n",
    "\n",
    "**Note:** Strictly speaking each $\\pi(t)$ consists of 4 parameters `(weight_1, bias_1)` for weights and bias term of first linear layer and `(weight_2, bias_2)` for parameters of second. In this function we assume that we get a consistent triplet, e.g., weights of first layer. In next task we will call this function on all triplets."
   ]
  },
  {
   "cell_type": "code",
   "execution_count": 26,
   "metadata": {},
   "outputs": [],
   "source": [
    "def get_chain_element(t, start, middle, end):\n",
    "    if 0 <= t <= 0.5:\n",
    "        pi = 2*((0.5-t)*start + t*middle)\n",
    "    elif 0.5 < t <= 1:\n",
    "        pi = 2*((t-0.5)*end + (1-t)*middle) # polygonal chain from Garipov et al. \"Loss Surfaces, Mode Connectivity, and Fast Ensembling of DNNs\"\n",
    "#         pi = 2*(t*end + (0.5-t)*middle) # two segment from instructions -> bad performance\n",
    "    else: print('error in pi')\n",
    "    return pi"
   ]
  },
  {
   "cell_type": "markdown",
   "metadata": {},
   "source": [
    "Below we implemented a function which outputs a network with parameters sampled from path."
   ]
  },
  {
   "cell_type": "code",
   "execution_count": 27,
   "metadata": {},
   "outputs": [],
   "source": [
    "def get_net(t, model_1, model_mid, model_2):\n",
    "\n",
    "    params_start = list(model_1.parameters())\n",
    "    params_end = list(model_2.parameters())\n",
    "    params_middle = model_mid\n",
    "    \n",
    "    params = []\n",
    "    for idx in range(len(params_start)):\n",
    "        start, middle, end = params_start[idx], params_middle[idx], params_end[idx]\n",
    "        new_param = get_chain_element(t, start, middle, end)\n",
    "        params.append(new_param)\n",
    "    new_model = CurveFCN(*params)\n",
    "        \n",
    "    return new_model"
   ]
  },
  {
   "cell_type": "markdown",
   "metadata": {},
   "source": [
    "**Task 2:** Implement a training algorithm for $\\theta$. \n",
    "\n",
    "For a certain amount of epochs go through the dataset and on each subset of training dataset sample a timestemp $t$. \n",
    "\n",
    "After use `get_net(t, model_1, model_mid, model_2)` to obtain a network model with parameters $\\pi(t)$. For which compute a loss on current subset and gradient for optimization step.\n",
    "\n",
    "**Note:** you are free to tune optimizer parameters and number of epochs."
   ]
  },
  {
   "cell_type": "code",
   "execution_count": 17,
   "metadata": {},
   "outputs": [
    {
     "name": "stdout",
     "output_type": "stream",
     "text": [
      "torch.Size([10, 500])\n"
     ]
    }
   ],
   "source": [
    "print(list(model_1.parameters())[2].shape)"
   ]
  },
  {
   "cell_type": "code",
   "execution_count": 28,
   "metadata": {},
   "outputs": [],
   "source": [
    "model_mid = list(FCN().parameters())\n",
    "\n",
    "optimizer = optim.Adam(model_mid, lr=0.0001, weight_decay=1e-7)\n",
    "\n",
    "n_epoch = 10\n",
    "\n",
    "for epoch in range(1, n_epoch + 1): #54\n",
    "    \n",
    "    for batch_idx, (data, target) in enumerate(train_loader):\n",
    "        t = torch.rand(1)[0] # sample timestemp\n",
    "        # input\n",
    "        data = data.view(-1,28 * 28) # reshape 2d image to vector of size 28x28\n",
    "\n",
    "        # get model and make an optimization step\n",
    "        new_model = get_net(t, model_1, model_mid, model_2)\n",
    "        output = new_model(data)\n",
    "        #loss function\n",
    "        L = F.cross_entropy(output, target)\n",
    "        #back propagation \n",
    "        L.backward()\n",
    "        optimizer.step() # make one optimization step\n",
    "        optimizer.zero_grad()\n",
    "        \n",
    "    test_loss = test(new_model, test_loader)"
   ]
  },
  {
   "cell_type": "markdown",
   "metadata": {},
   "source": [
    "**Task 3:** Implement a function which computes test loss for 50 timesteps in $[0,1]$ interval and returns resulting array of losses."
   ]
  },
  {
   "cell_type": "code",
   "execution_count": 29,
   "metadata": {},
   "outputs": [],
   "source": [
    "def get_path(model_1, model_mid, model_2):\n",
    "    timesteps = np.linspace(0, 1, 50)\n",
    "    \n",
    "    path = np.empty(len(timesteps))\n",
    "    # iterate over test data, output loss and test\n",
    "    for i, t in enumerate(timesteps):\n",
    "        print(i, t)\n",
    "        new_model = get_net(t, model_1, model_mid, model_2)\n",
    "        path[i] = test(new_model, test_loader)\n",
    "    return path"
   ]
  },
  {
   "cell_type": "code",
   "execution_count": 30,
   "metadata": {
    "scrolled": true
   },
   "outputs": [
    {
     "name": "stdout",
     "output_type": "stream",
     "text": [
      "0 0.0\n",
      "1 0.02040816326530612\n",
      "2 0.04081632653061224\n",
      "3 0.061224489795918366\n",
      "4 0.08163265306122448\n",
      "5 0.1020408163265306\n",
      "6 0.12244897959183673\n",
      "7 0.14285714285714285\n",
      "8 0.16326530612244897\n",
      "9 0.18367346938775508\n",
      "10 0.2040816326530612\n",
      "11 0.22448979591836732\n",
      "12 0.24489795918367346\n",
      "13 0.26530612244897955\n",
      "14 0.2857142857142857\n",
      "15 0.3061224489795918\n",
      "16 0.32653061224489793\n",
      "17 0.3469387755102041\n",
      "18 0.36734693877551017\n",
      "19 0.3877551020408163\n",
      "20 0.4081632653061224\n",
      "21 0.42857142857142855\n",
      "22 0.44897959183673464\n",
      "23 0.4693877551020408\n",
      "24 0.4897959183673469\n",
      "25 0.5102040816326531\n",
      "26 0.5306122448979591\n",
      "27 0.5510204081632653\n",
      "28 0.5714285714285714\n",
      "29 0.5918367346938775\n",
      "30 0.6122448979591836\n",
      "31 0.6326530612244897\n",
      "32 0.6530612244897959\n",
      "33 0.673469387755102\n",
      "34 0.6938775510204082\n",
      "35 0.7142857142857142\n",
      "36 0.7346938775510203\n",
      "37 0.7551020408163265\n",
      "38 0.7755102040816326\n",
      "39 0.7959183673469387\n",
      "40 0.8163265306122448\n",
      "41 0.836734693877551\n",
      "42 0.8571428571428571\n",
      "43 0.8775510204081632\n",
      "44 0.8979591836734693\n",
      "45 0.9183673469387754\n",
      "46 0.9387755102040816\n",
      "47 0.9591836734693877\n",
      "48 0.9795918367346939\n",
      "49 1.0\n"
     ]
    }
   ],
   "source": [
    "# res_2seg = get_path(model_1, model_mid, model_2)\n",
    "res_poly = get_path(model_1, model_mid, model_2)"
   ]
  },
  {
   "cell_type": "markdown",
   "metadata": {},
   "source": [
    "**Task 4:** To compare our learn path we choose a simple linear interpolation between two points, namely\n",
    "\n",
    "$$\n",
    "\\pi_{\\textrm{linear}}(t) = (1-t)\\theta_1 + t \\theta_2,\\quad t \\in [0,1]\n",
    "$$\n",
    "\n",
    "Implement it in function `get_linear_element` in similar spirit to `get_chain_element`."
   ]
  },
  {
   "cell_type": "code",
   "execution_count": 21,
   "metadata": {},
   "outputs": [],
   "source": [
    "def get_linear_element(t, start, end):\n",
    "    return (1-t)*start + t*end"
   ]
  },
  {
   "cell_type": "code",
   "execution_count": 22,
   "metadata": {},
   "outputs": [],
   "source": [
    "def get_linear_net(t, model_1, model_2):\n",
    "\n",
    "    params_start = list(model_1.parameters())\n",
    "    params_end = list(model_2.parameters())\n",
    "    \n",
    "    params = []\n",
    "    for idx in range(len(params_start)):\n",
    "        start, end = params_start[idx], params_end[idx]\n",
    "        new_param = get_linear_element(t, start, end)\n",
    "        params.append(new_param)\n",
    "    new_model = CurveFCN(*params)\n",
    "        \n",
    "    return new_model"
   ]
  },
  {
   "cell_type": "markdown",
   "metadata": {},
   "source": [
    "**Task 5:** Similar to **task 3** implement a function which returns a loss values for 50 timesteps which partition $[0,1]$ interval on equal pieces but for **linear interpolation** (call `get_linear_net`)"
   ]
  },
  {
   "cell_type": "code",
   "execution_count": 23,
   "metadata": {},
   "outputs": [],
   "source": [
    "def get_path_linear(model_1, model_mid, model_2):  \n",
    "    # => implement\n",
    "    timesteps = np.linspace(0, 1, 50)\n",
    "    \n",
    "    path = np.empty(len(timesteps))\n",
    "    # iterate over test data, output loss and test\n",
    "    for i,t in enumerate(timesteps):\n",
    "        new_model = get_linear_net(t, model_1, model_2)\n",
    "        path[i] = test(new_model, test_loader)\n",
    "    return path"
   ]
  },
  {
   "cell_type": "code",
   "execution_count": 24,
   "metadata": {},
   "outputs": [],
   "source": [
    "res_lin = get_path_linear(model_1, model_mid, model_2)"
   ]
  },
  {
   "cell_type": "markdown",
   "metadata": {},
   "source": [
    "**Task 6:** Plot loss on linear path and two-segment one on a single plot.\n",
    "\n",
    "**Hint:** if everything is correct the loss on two-segment one should be significantly smaller than of linear interpolation."
   ]
  },
  {
   "cell_type": "code",
   "execution_count": 51,
   "metadata": {},
   "outputs": [
    {
     "data": {
      "image/png": "[encoded data removed]",
      "text/plain": [
       "<Figure size 432x288 with 1 Axes>"
      ]
     },
     "metadata": {
      "needs_background": "light"
     },
     "output_type": "display_data"
    }
   ],
   "source": [
    "# => plot loss on paths\n",
    "plt.figure() #figsize = (6,4)\n",
    "times = np.linspace(0, 1, 50)\n",
    "plt.plot(times, res_2seg, label='two-segment') # , ls='dashed'\n",
    "plt.plot(times, res_poly, label='polychain')\n",
    "plt.plot(times, res_lin, label='linear')\n",
    "plt.xlabel(r'connectivity parameter $t$')\n",
    "plt.ylabel(r'loss')\n",
    "# plt.ylim([0.00005,0.00023])\n",
    "plt.legend()\n",
    "# plt.savefig('../figures/modeconnectivity_1_loss.pdf', bbox_inches='tight')\n",
    "plt.show()"
   ]
  },
  {
   "cell_type": "code",
   "execution_count": 212,
   "metadata": {},
   "outputs": [
    {
     "data": {
      "image/png": "[encoded data removed]",
      "text/plain": [
       "<Figure size 432x288 with 1 Axes>"
      ]
     },
     "metadata": {
      "needs_background": "light"
     },
     "output_type": "display_data"
    }
   ],
   "source": [
    "# => plot loss on paths"
   ]
  },
  {
   "cell_type": "markdown",
   "metadata": {},
   "source": [
    "### (Bonus part) \n",
    "\n",
    "Try to get similar results for the path defined by the **Bezier curve**. It has the following parametric form\n",
    "\n",
    "$$\n",
    "\\pi(t) = (1-t^2)\\theta_1 + t^2 \\theta_2 + 2t(1-t) \\theta, \\quad t \\in [0,1],\n",
    "$$\n",
    "\n",
    "$\\theta$ is a parameter that needs to be trained to get a path of low loss."
   ]
  },
  {
   "cell_type": "code",
   "execution_count": null,
   "metadata": {},
   "outputs": [],
   "source": [
    "# => implementation similar to polygonal chain"
   ]
  },
  {
   "cell_type": "code",
   "execution_count": 32,
   "metadata": {},
   "outputs": [],
   "source": [
    "def get_bezier_element(t, start, middle, end):\n",
    "    return (1-t**2)*start + t**2*end + 2*t*(1-t)*middle"
   ]
  },
  {
   "cell_type": "code",
   "execution_count": 33,
   "metadata": {},
   "outputs": [],
   "source": [
    "def get_bezier_net(t, model_1, model_mid, model_2):\n",
    "\n",
    "    params_start = list(model_1.parameters())\n",
    "    params_end = list(model_2.parameters())\n",
    "    params_middle = model_mid\n",
    "    \n",
    "    params = []\n",
    "    for idx in range(len(params_start)):\n",
    "        start, middle, end = params_start[idx], params_middle[idx], params_end[idx]\n",
    "        new_param = get_bezier_element(t, start, middle, end)\n",
    "        params.append(new_param)\n",
    "    new_model = CurveFCN(*params)\n",
    "        \n",
    "    return new_model"
   ]
  },
  {
   "cell_type": "code",
   "execution_count": 34,
   "metadata": {},
   "outputs": [],
   "source": [
    "model_mid = list(FCN().parameters())\n",
    "\n",
    "optimizer = optim.Adam(model_mid, lr=0.0001, weight_decay=1e-7)\n",
    "\n",
    "n_epoch = 10\n",
    "\n",
    "for epoch in range(1, n_epoch + 1): #54\n",
    "    \n",
    "    for batch_idx, (data, target) in enumerate(train_loader):\n",
    "        t = torch.rand(1)[0] # sample timestemp\n",
    "        # input\n",
    "        data = data.view(-1,28 * 28) # reshape 2d image to vector of size 28x28\n",
    "\n",
    "        # get model and make an optimization step\n",
    "        new_model = get_bezier_net(t, model_1, model_mid, model_2)\n",
    "        output = new_model(data)\n",
    "        #loss function\n",
    "        L = F.cross_entropy(output, target)\n",
    "        #back propagation \n",
    "        L.backward()\n",
    "        optimizer.step() # make one optimization step\n",
    "        optimizer.zero_grad()\n",
    "        \n",
    "    test_loss = test(new_model, test_loader)"
   ]
  },
  {
   "cell_type": "code",
   "execution_count": 35,
   "metadata": {},
   "outputs": [],
   "source": [
    "def get_path_bezier(model_1, model_mid, model_2):\n",
    "    timesteps = np.linspace(0, 1, 50)\n",
    "    \n",
    "    path = np.empty(len(timesteps))\n",
    "    # iterate over test data, output loss and test\n",
    "    for i, t in enumerate(timesteps):\n",
    "        print(i, t)\n",
    "        new_model = get_bezier_net(t, model_1, model_mid, model_2)\n",
    "        path[i] = test(new_model, test_loader)\n",
    "    return path"
   ]
  },
  {
   "cell_type": "code",
   "execution_count": 36,
   "metadata": {
    "scrolled": true
   },
   "outputs": [
    {
     "name": "stdout",
     "output_type": "stream",
     "text": [
      "0 0.0\n",
      "1 0.02040816326530612\n",
      "2 0.04081632653061224\n",
      "3 0.061224489795918366\n",
      "4 0.08163265306122448\n",
      "5 0.1020408163265306\n",
      "6 0.12244897959183673\n",
      "7 0.14285714285714285\n",
      "8 0.16326530612244897\n",
      "9 0.18367346938775508\n",
      "10 0.2040816326530612\n",
      "11 0.22448979591836732\n",
      "12 0.24489795918367346\n",
      "13 0.26530612244897955\n",
      "14 0.2857142857142857\n",
      "15 0.3061224489795918\n",
      "16 0.32653061224489793\n",
      "17 0.3469387755102041\n",
      "18 0.36734693877551017\n",
      "19 0.3877551020408163\n",
      "20 0.4081632653061224\n",
      "21 0.42857142857142855\n",
      "22 0.44897959183673464\n",
      "23 0.4693877551020408\n",
      "24 0.4897959183673469\n",
      "25 0.5102040816326531\n",
      "26 0.5306122448979591\n",
      "27 0.5510204081632653\n",
      "28 0.5714285714285714\n",
      "29 0.5918367346938775\n",
      "30 0.6122448979591836\n",
      "31 0.6326530612244897\n",
      "32 0.6530612244897959\n",
      "33 0.673469387755102\n",
      "34 0.6938775510204082\n",
      "35 0.7142857142857142\n",
      "36 0.7346938775510203\n",
      "37 0.7551020408163265\n",
      "38 0.7755102040816326\n",
      "39 0.7959183673469387\n",
      "40 0.8163265306122448\n",
      "41 0.836734693877551\n",
      "42 0.8571428571428571\n",
      "43 0.8775510204081632\n",
      "44 0.8979591836734693\n",
      "45 0.9183673469387754\n",
      "46 0.9387755102040816\n",
      "47 0.9591836734693877\n",
      "48 0.9795918367346939\n",
      "49 1.0\n"
     ]
    }
   ],
   "source": [
    "res_bezier = get_path_bezier(model_1, model_mid, model_2)"
   ]
  },
  {
   "cell_type": "code",
   "execution_count": 55,
   "metadata": {},
   "outputs": [
    {
     "data": {
      "image/png": "[encoded data removed]",
      "text/plain": [
       "<Figure size 432x288 with 1 Axes>"
      ]
     },
     "metadata": {
      "needs_background": "light"
     },
     "output_type": "display_data"
    }
   ],
   "source": [
    "# => plot loss on paths\n",
    "plt.figure() #figsize = (6,4)\n",
    "times = np.linspace(0, 1, 50)\n",
    "plt.plot(times, res_poly, label='polygonal chain')\n",
    "plt.plot(times, res_lin, label='linear')\n",
    "plt.plot(times, res_bezier, label='Bezier curve')\n",
    "plt.xlabel(r'connectivity parameter $t$')\n",
    "plt.ylabel(r'loss')\n",
    "# plt.ylim([0.00005,0.00023])\n",
    "plt.legend()\n",
    "# plt.savefig('../figures/modeconnectivity_1_loss_all.pdf', bbox_inches='tight')\n",
    "plt.show()"
   ]
  },
  {
   "cell_type": "code",
   "execution_count": null,
   "metadata": {},
   "outputs": [],
   "source": []
  }
 ],
 "metadata": {
  "kernelspec": {
   "display_name": "Python 3",
   "language": "python",
   "name": "python3"
  },
  "language_info": {
   "codemirror_mode": {
    "name": "ipython",
    "version": 3
   },
   "file_extension": ".py",
   "mimetype": "text/x-python",
   "name": "python",
   "nbconvert_exporter": "python",
   "pygments_lexer": "ipython3",
   "version": "3.8.5"
  }
 },
 "nbformat": 4,
 "nbformat_minor": 4
}
