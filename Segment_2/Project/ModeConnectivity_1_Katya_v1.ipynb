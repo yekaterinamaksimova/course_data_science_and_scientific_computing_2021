{
 "cells": [
  {
   "cell_type": "markdown",
   "metadata": {},
   "source": [
    "# Mode Connectivity of Neural Networks (Part 1)\n",
    "\n",
    "<br>\n",
    "\n",
    "## Intro to the Problem\n",
    "<br>\n",
    "Consider a neural network with parameters $\\theta \\in \\mathbb{R}^D$ and function $f(\\theta): \\mathbb{R}^D \\rightarrow \\mathbb{R}$ which evaluates the error/loss of the network with given set of parameters. In this view, optimization landscape is a surface defined by $(\\theta, f(\\theta))$ for all $\\theta \\in \\mathbb{R}^D$.\n",
    "\n",
    "The optimization landscape for non-convex problems, such as neural network training, typically exhibits many poor local optima and is challenging for optimization algorithms. In this project we investigate an interesting phenomenon  first described in line of works by Garipov & Draxler, called **mode connectivity**. In particular, it was shown that solutions found by SGD for large network are not isolated points in the parameter space, but rather connected via continous path on which the value of risk does not differ much from the end points."
   ]
  },
  {
   "cell_type": "markdown",
   "metadata": {},
   "source": [
    "<img src=\"ileyeofcgjsdc52q3jildv6alkk.jpeg\" alt=\"Drawing\" style=\"width: 400px;\"/>\n",
    "<br>\n",
    "<center> Fig. 1: An example of optimization landscape of non-convex problem<center>"
   ]
  },
  {
   "cell_type": "markdown",
   "metadata": {},
   "source": [
    "Notably, a simple linear interpolation between the solutions is not enough and the path ought to be constructed in more intelligent fashion. In this part of the project we imprement an algorithm from **\"Loss Surfaces, Mode Connectivity, and Fast Ensembling of DNNs\"** by Timur Garipov et al., to find a suitable path between two solutions found by an optimization algorithm."
   ]
  },
  {
   "cell_type": "markdown",
   "metadata": {},
   "source": [
    "## Network Training on MNIST\n",
    "\n",
    "<br>\n",
    "\n",
    "First things first, we would need to get these two solutions. In this project we consider training a simple two-layer fully connected network for the MNIST classification task, i.e., neural network should be able to assign a correct class to the input digit image.\n",
    "\n",
    "<img src=\"two-layer.png\" alt=\"Drawing\" style=\"width: 400px;\"/>\n",
    "<br>\n",
    "<center> Fig. 2: Schematic illustration of two-layer neural network<center>\n",
    "<br>\n",
    "    \n",
    "To train a network and for further path construction manipulations we will rely on the Automatic Differentiation package called PyTorch, as it is relatively user-friendly and provides with all tools we would need."
   ]
  },
  {
   "cell_type": "code",
   "execution_count": 1,
   "metadata": {},
   "outputs": [],
   "source": [
    "# importing all necessary packages\n",
    "\n",
    "import torch\n",
    "import torch.nn as nn\n",
    "import torch.nn.functional as F\n",
    "import torch.optim as optim\n",
    "\n",
    "from torchvision import datasets, transforms\n",
    "from torch.optim.lr_scheduler import StepLR\n",
    "\n",
    "from copy import deepcopy\n",
    "# import \n",
    "\n",
    "import matplotlib.pyplot as plt\n",
    "%matplotlib inline\n",
    "\n",
    "import numpy as np"
   ]
  },
  {
   "cell_type": "markdown",
   "metadata": {},
   "source": [
    "### Minimal working examples\n",
    "\n",
    "In this section, we will try to cover the basic logics of PyTorch framework. In a nutshell, it allows to compute the derivatives for any $f : \\mathbb{R}^d \\rightarrow \\mathbb{R}$ w.r.t. the input $x \\in \\mathbb{R}^d$. The input $x$ should be either `torch.Tensor` for which `requires_grad=True` or `torch.nn.Parameter`. To illustrate consider\n",
    "\n",
    "$$\n",
    "f(x) = x_1^2 + 2 x_1 x_2 + x_2^2, \\quad x \\in \\mathbb{R}^2\n",
    "$$\n",
    "\n",
    "thus the derivatives w.r.t. $x$ can be computed as follows \n",
    "\n",
    "$$\n",
    "\\frac{\\partial f}{\\partial x_1} = 2 x_1 + 2 x_2, \\quad \\frac{\\partial f}{\\partial x_2} = 2 x_2 + 2 x_1\n",
    "$$\n",
    "\n",
    "Now let us check if PyTorch would give us a proper answer."
   ]
  },
  {
   "cell_type": "code",
   "execution_count": 2,
   "metadata": {},
   "outputs": [
    {
     "name": "stdout",
     "output_type": "stream",
     "text": [
      "tensor([4., 4.])\n"
     ]
    }
   ],
   "source": [
    "x = torch.tensor([1., 1.], requires_grad = True)  # we want derivative of f w.r.t. x in point where x = (1,1)\n",
    "f = x[0] ** 2 + 2 * x[0] * x[1] + x[1] ** 2  # define a function value at point x = (1,1)\n",
    "f.backward()  # computes a gradient w.r.t x which is stored in x.grad field\n",
    "print(x.grad)"
   ]
  },
  {
   "cell_type": "markdown",
   "metadata": {},
   "source": [
    "As one can see the output is correct since for both coordinates\n",
    "\n",
    "$$\n",
    "\\frac{\\partial f}{\\partial x_1}(1,1) = 2 x_1 + 2 x_2 = 2 \\cdot 1 + 2 \\cdot 1 = \\quad \\frac{\\partial f}{\\partial x_2}(1,1).\n",
    "$$\n",
    "\n",
    "With this in mind we can now try to implement a steapest descent to find a minimum of function $f$. Note that the global minimum is obviously allocated at point any point where $x_1 = - x_2$ since $f(x) = (x_1 + x_2)^2$. \n",
    "<br>\n",
    "\n",
    "Fortunately, many steepest descent procedures are already implemented in `torch.optim`, we will use a simple one - Gradient Descent (GD). At each step we compute the gradient at current point and then make a step in the opposite direction with some \"learning rate\" $\\alpha$, formally\n",
    "\n",
    "$$\n",
    "x^{(t + 1)} = x^{(t)} - \\alpha \\cdot \\nabla f(x^{(t)}).\n",
    "$$\n",
    "\n",
    "We can continue this procedure until convergence or just fixing a maximum amount of iterations we should perform. The example code could be found below."
   ]
  },
  {
   "cell_type": "code",
   "execution_count": 3,
   "metadata": {},
   "outputs": [
    {
     "name": "stdout",
     "output_type": "stream",
     "text": [
      "tensor([6.5332e-23, 6.5332e-23], requires_grad=True)\n"
     ]
    }
   ],
   "source": [
    "x = torch.tensor([1., 1.], requires_grad = True) # initialize a starting point for GD\n",
    "\n",
    "optimizer = optim.SGD([x], lr=1e-1) # define optimizer first argument is a list of variables over which\n",
    "# we want to optimize, lr = learning rate\n",
    "\n",
    "for it in range(100): # 100 is the number of GD iterations we set\n",
    "    f = x.sum().pow(2) # for each x^t we compute the corresponding value of f to get gradient after\n",
    "    # x.sum().pow(2) gives the same result as x[0] ** 2 + 2 * x[0] * x[1] + x[1] ** 2\n",
    "    f.backward() # get the gradient at current point\n",
    "    optimizer.step() # make one optimization step\n",
    "    optimizer.zero_grad() # sets the field x.grad to zero, since otherwise on next backward \n",
    "    # the gradient would be added to the previous value -> would be wrong (i.e., grads are\n",
    "    # stored always by default unless you zero them down) \n",
    "    \n",
    "print(x) # get the value of x after 100 iterations"
   ]
  },
  {
   "cell_type": "markdown",
   "metadata": {},
   "source": [
    "What went wrong? Why did we end up in a point which is approximately $(0,0)$? The answer is: GD procedure can find any stationary point, i.e., where $\\nabla f(x) = 0$. One can check that $(0,0)$ is indeed one but not a global minimum! How can we cure this? Simply by trying more initial points and picking the one which gives the best value of $f$. However since we know that in global minimum $x_1 = - x_2$ we can cheat and initialize for instance with $x=(2,-1)$ (to not get stuck at bad (0,0) point)."
   ]
  },
  {
   "cell_type": "code",
   "execution_count": 4,
   "metadata": {},
   "outputs": [
    {
     "name": "stdout",
     "output_type": "stream",
     "text": [
      "tensor([ 1.5000, -1.5000], requires_grad=True)\n"
     ]
    }
   ],
   "source": [
    "x = torch.tensor([2., -1.], requires_grad = True) # cheating\n",
    "\n",
    "optimizer = optim.SGD([x], lr=1e-1)\n",
    "\n",
    "for it in range(100):\n",
    "    f = x.sum().pow(2)\n",
    "    f.backward()\n",
    "    optimizer.step()\n",
    "    optimizer.zero_grad()\n",
    "    \n",
    "print(x)"
   ]
  },
  {
   "cell_type": "markdown",
   "metadata": {},
   "source": [
    "Now everying is perfect since we found a point where $x_1 = -x_2$. \n",
    "\n",
    "\n",
    "##### Neural Network Training Outline\n",
    "\n",
    "Now consider a more complicated optimization procedure – neural network training. Although we will cover each step thoroughly in next section, in nutshell it can be described as follows:\n",
    "\n",
    "<br>\n",
    "Now we have a complicated function (NN) $f_{\\theta}(x)$ which depends on weights $\\theta$ and input $x$. We will focus only on classification. Consider a data $(x,y)$ ($x$ is input and $y$ is correct label for current $x$) which comes from some distribution $\\mathcal{D}$. And assume we have a measure of how good network prediction $f_{\\theta}(x)$ is compared to true $y$ - we call it $\\mathcal{L}(\\cdot, \\cdot)$. In this view, we want to find a parameters $\\theta$ which minimize the expected loss\n",
    "\n",
    "$$\n",
    "\\mathbb{E}_{(x,y) \\sim \\mathcal{D}} \\mathcal{L}(f_{\\theta}(x), y),\n",
    "$$\n",
    "\n",
    "we can do so by sampling a subset of examples from $\\mathcal{D}$ of size $B$, i.e., $\\{(x_i,y_i)\\}_{i=1}^B \\sim \\mathcal{D}^B$ on each step and computing a gradient of\n",
    "\n",
    "$$\n",
    "\\frac{1}{B} \\sum_{i=1}^M \\mathcal{L}(f_{\\theta}(x_i), y_i)\n",
    "$$\n",
    "\n",
    "w.r.t. $\\theta$ and update $\\theta$ with gradient step."
   ]
  },
  {
   "cell_type": "markdown",
   "metadata": {},
   "source": [
    "### Network Definition and Training"
   ]
  },
  {
   "cell_type": "markdown",
   "metadata": {},
   "source": [
    "#### Step 1: Dataset\n",
    "\n",
    "First we download the dataset and normalize each image for optimization stability. `train_loader` and `test_loader` are iterators for corresponding parts of the dataset."
   ]
  },
  {
   "cell_type": "code",
   "execution_count": 5,
   "metadata": {},
   "outputs": [
    {
     "name": "stdout",
     "output_type": "stream",
     "text": [
      "Downloading http://yann.lecun.com/exdb/mnist/train-images-idx3-ubyte.gz\n",
      "Downloading http://yann.lecun.com/exdb/mnist/train-images-idx3-ubyte.gz to ../data/MNIST/raw/train-images-idx3-ubyte.gz\n",
      "Failed to download (trying next):\n",
      "HTTP Error 503: Service Unavailable\n",
      "\n",
      "Downloading https://ossci-datasets.s3.amazonaws.com/mnist/train-images-idx3-ubyte.gz\n",
      "Downloading https://ossci-datasets.s3.amazonaws.com/mnist/train-images-idx3-ubyte.gz to ../data/MNIST/raw/train-images-idx3-ubyte.gz\n"
     ]
    },
    {
     "data": {
      "application/vnd.jupyter.widget-view+json": {
       "model_id": "bd3ce685830a4b988f73c40e6160a9ff",
       "version_major": 2,
       "version_minor": 0
      },
      "text/plain": [
       "  0%|          | 0/9912422 [00:00<?, ?it/s]"
      ]
     },
     "metadata": {},
     "output_type": "display_data"
    },
    {
     "name": "stdout",
     "output_type": "stream",
     "text": [
      "Extracting ../data/MNIST/raw/train-images-idx3-ubyte.gz to ../data/MNIST/raw\n",
      "\n",
      "Downloading http://yann.lecun.com/exdb/mnist/train-labels-idx1-ubyte.gz\n",
      "Downloading http://yann.lecun.com/exdb/mnist/train-labels-idx1-ubyte.gz to ../data/MNIST/raw/train-labels-idx1-ubyte.gz\n"
     ]
    },
    {
     "data": {
      "application/vnd.jupyter.widget-view+json": {
       "model_id": "33bc78e0f7d74056a996bbb82dd27a16",
       "version_major": 2,
       "version_minor": 0
      },
      "text/plain": [
       "  0%|          | 0/28881 [00:00<?, ?it/s]"
      ]
     },
     "metadata": {},
     "output_type": "display_data"
    },
    {
     "name": "stdout",
     "output_type": "stream",
     "text": [
      "Extracting ../data/MNIST/raw/train-labels-idx1-ubyte.gz to ../data/MNIST/raw\n",
      "\n",
      "Downloading http://yann.lecun.com/exdb/mnist/t10k-images-idx3-ubyte.gz\n",
      "Downloading http://yann.lecun.com/exdb/mnist/t10k-images-idx3-ubyte.gz to ../data/MNIST/raw/t10k-images-idx3-ubyte.gz\n"
     ]
    },
    {
     "data": {
      "application/vnd.jupyter.widget-view+json": {
       "model_id": "696234738dca4a01b4e50f1a09b27cbe",
       "version_major": 2,
       "version_minor": 0
      },
      "text/plain": [
       "  0%|          | 0/1648877 [00:00<?, ?it/s]"
      ]
     },
     "metadata": {},
     "output_type": "display_data"
    },
    {
     "name": "stdout",
     "output_type": "stream",
     "text": [
      "Extracting ../data/MNIST/raw/t10k-images-idx3-ubyte.gz to ../data/MNIST/raw\n",
      "\n",
      "Downloading http://yann.lecun.com/exdb/mnist/t10k-labels-idx1-ubyte.gz\n",
      "Downloading http://yann.lecun.com/exdb/mnist/t10k-labels-idx1-ubyte.gz to ../data/MNIST/raw/t10k-labels-idx1-ubyte.gz\n"
     ]
    },
    {
     "data": {
      "application/vnd.jupyter.widget-view+json": {
       "model_id": "14782dc97da846b9a32a5f5b2c14c658",
       "version_major": 2,
       "version_minor": 0
      },
      "text/plain": [
       "  0%|          | 0/4542 [00:00<?, ?it/s]"
      ]
     },
     "metadata": {},
     "output_type": "display_data"
    },
    {
     "name": "stdout",
     "output_type": "stream",
     "text": [
      "Extracting ../data/MNIST/raw/t10k-labels-idx1-ubyte.gz to ../data/MNIST/raw\n",
      "\n",
      "Processing...\n",
      "Done!\n"
     ]
    },
    {
     "name": "stderr",
     "output_type": "stream",
     "text": [
      "/Users/ekaterinamaksimova/Programs/anaconda3/lib/python3.7/site-packages/torchvision/datasets/mnist.py:502: UserWarning: The given NumPy array is not writeable, and PyTorch does not support non-writeable tensors. This means you can write to the underlying (supposedly non-writeable) NumPy array using the tensor. You may want to copy the array to protect its data or make it writeable before converting it to a tensor. This type of warning will be suppressed for the rest of this program. (Triggered internally at  /Users/distiller/project/conda/conda-bld/pytorch_1616554799287/work/torch/csrc/utils/tensor_numpy.cpp:143.)\n",
      "  return torch.from_numpy(parsed.astype(m[2], copy=False)).view(*s)\n"
     ]
    }
   ],
   "source": [
    "# convert image to tensor for PyTorch, and normalize with mean and std for stability\n",
    "transform = transforms.Compose([\n",
    "        transforms.ToTensor(),\n",
    "        transforms.Normalize((0.1307,), (0.3081,))\n",
    "        ])\n",
    "\n",
    "# downloading training and test parts of MNIST dataset\n",
    "dataset1 = datasets.MNIST('../data', train=True, download=True,\n",
    "                   transform=transform)\n",
    "dataset2 = datasets.MNIST('../data', train=False,\n",
    "                   transform=transform)\n",
    "\n",
    "# get train and test samplers with B=100 for train and B=1000 for test\n",
    "train_loader = torch.utils.data.DataLoader(dataset1, batch_size=100, shuffle=True)\n",
    "test_loader = torch.utils.data.DataLoader(dataset2, batch_size=1000, shuffle=False)"
   ]
  },
  {
   "cell_type": "markdown",
   "metadata": {},
   "source": [
    "Below you can see the sample images from the dataset."
   ]
  },
  {
   "cell_type": "code",
   "execution_count": 96,
   "metadata": {},
   "outputs": [
    {
     "data": {
      "image/png": "[encoded data removed]",
      "text/plain": [
       "<Figure size 720x360 with 8 Axes>"
      ]
     },
     "metadata": {
      "needs_background": "light"
     },
     "output_type": "display_data"
    }
   ],
   "source": [
    "fig, ax = plt.subplots(nrows=2, ncols=4, figsize=(10,5))\n",
    "\n",
    "data = next(iter(test_loader))[0][0:8]\n",
    "for i in range(8):\n",
    "    ax[i // 4][i % 4].imshow(data[i].numpy()[0,:,:])\n",
    "    ax[i // 4][i % 4].axis('off')\n",
    "plt.show()"
   ]
  },
  {
   "cell_type": "markdown",
   "metadata": {},
   "source": [
    "#### Step 2: Network Definition\n",
    "\n",
    "For this task we will train a two-layer network with 500 hidden units. Since each MNIST image has size $28 \\times 28$ first linear layer has shape $(28 \\cdot 28) \\times 500$. As the number of classes for digits is equal to $10$ final layer has shape $500 \\times 10$. As an activation function we will use Rectified Linear Unit (`nn.ReLU`). **The network outputs the vector of size 10 which corresponds to probability of each class**.\n",
    "\n",
    "\n",
    "**Task1:** Implement a forward pass for this network which consists of\n",
    "\n",
    "$$\n",
    "\\textrm{input} \\rightarrow \\textrm{Linear layer 1} \\rightarrow \\textrm{ReLU} \\rightarrow \\textrm{Linear layer 2}\n",
    "$$\n",
    "\n",
    "in corresponding function. Each layer or activation output on input $x$ can be obtained calling\n",
    "\n",
    "$$\n",
    "\\textrm{layer/act}(x)\n",
    "$$\n",
    "\n",
    "The forward pass for the model on input is called in the same fashion."
   ]
  },
  {
   "cell_type": "code",
   "execution_count": 142,
   "metadata": {},
   "outputs": [],
   "source": [
    "class FCN(nn.Module):\n",
    "    \n",
    "    def __init__(self):\n",
    "        super(FCN, self).__init__()\n",
    "        self.fc1 = nn.Linear(28 * 28, 500)\n",
    "        self.fc2 = nn.Linear(500, 10)\n",
    "        self.act = nn.ReLU()\n",
    "        \n",
    "    def forward(self, x):\n",
    "        x = self.fc1(x)\n",
    "        x = self.act(x)\n",
    "        x = self.fc2(x)\n",
    "        return x"
   ]
  },
  {
   "cell_type": "markdown",
   "metadata": {},
   "source": [
    "All network parameters can be accessed via `.parameters()` method."
   ]
  },
  {
   "cell_type": "markdown",
   "metadata": {},
   "source": [
    "#### Step 3: Training Epoch\n",
    "\n",
    "For classification task we will use $\\mathcal{L}$ which is cross-entropy loss. It can be accessed by calling `F.cross_entropy(output, target)`, where `output` is the result of forward pass through the model and `target` are true labels.\n",
    "\n",
    "**Task1:**\n",
    "In cell bellow implement one step of optimization proceedure:\n",
    "\n",
    "*1)* Obtain output for current subset of dataset, i.e., `data`\n",
    "\n",
    "*2)* Compute loss objective on current `output` and `target`\n",
    "\n",
    "*3)* Compute the gradient update and make a step\n",
    "\n",
    "**Task2:** In addition, it is helpful to see that the loss is decreasing during iterations. Thus, implement progress tracker which will print the loss value periodically (say each 60 steps <=> `batch_idx % 60 == 0` ).\n"
   ]
  },
  {
   "cell_type": "code",
   "execution_count": 170,
   "metadata": {},
   "outputs": [],
   "source": [
    "def train(model, train_loader, optimizer, epoch):\n",
    "    model.train()\n",
    "    running_loss = 0.0\n",
    "    for batch_idx, (data, target) in enumerate(train_loader): # sample subset of dataset - (x,y)\n",
    "        # input\n",
    "        data = data.view(-1,28 * 28) # reshape 2d image to vector of size 28x28\n",
    "        \n",
    "        # => Implement a computation of gradient for current batch of data\n",
    "\n",
    "        #forward propagation\n",
    "        optimizer.zero_grad()\n",
    "        output = model(data)\n",
    "#         output = model.forward(data)\n",
    "        #lost function\n",
    "        L = F.cross_entropy(output, target)\n",
    "        #back propagation \n",
    "        L.backward()\n",
    "        optimizer.step()  \n",
    "        \n",
    "        # => Implement progress tracker\n",
    "        running_loss += L.item()\n",
    "        if batch_idx % 60 == 59:\n",
    "            print(\"Loss at step {} is {}\".format(batch_idx+1, running_loss/60))\n",
    "            running_loss = 0.0"
   ]
  },
  {
   "cell_type": "markdown",
   "metadata": {},
   "source": [
    "#### Step 4: Test epoch\n",
    "\n",
    "As model is trained on the training part of the dataset a good performance measurement is to track loss and accuracy\n",
    "\n",
    "$$\n",
    "\\textrm{accuracy(output, target)} =  \\mathbb{I}\\{\\arg\\max_{i}\\textrm{output}_i = target\\},\n",
    "$$\n",
    "\n",
    "i.e., if max probability is assigned to a correct class, which model achieves on a test part of the dataset which it did not see.\n",
    "\n",
    "\n",
    "**Task 1:** Compute the loss objective and accuracy averaged over the whole test dataset. Print it and return average test loss value as function output."
   ]
  },
  {
   "cell_type": "code",
   "execution_count": 177,
   "metadata": {},
   "outputs": [],
   "source": [
    "def test(model, test_loader):\n",
    "    model.eval()\n",
    "    test_loss = 0\n",
    "    accuracy = 0\n",
    "    with torch.no_grad(): # to not store the gradients (i.e., ease memory requirement)\n",
    "        for data, target in test_loader:\n",
    "            data = data.view(-1,28 * 28)\n",
    "    # ===> Implement progress tracker\n",
    "#             x = torch.tensor(data, requires_grad = True)\n",
    "            output = model(data)\n",
    "            test_loss += F.cross_entropy(output, target).item()\n",
    "            pred = output.argmax(dim=1, keepdim=True)\n",
    "            accuracy += pred.eq(target.view_as(pred)).sum().item()\n",
    "    test_loss /= len(test_loader.dataset)\n",
    "    accuracy /= len(test_loader.dataset)\n",
    "    print('Average loss on the test data: ', test_loss)\n",
    "    print('Average accuracy on the test data: {:.2f}%'.format(100* accuracy))\n",
    "    return test_loss"
   ]
  },
  {
   "cell_type": "markdown",
   "metadata": {},
   "source": [
    "#### Step 5:  Train two networks for connectivity experiments\n",
    "\n",
    "Now we have both training and test functions in our hands. Train function implements one pass over the whole dataset.\n",
    "\n",
    "**Task 1:** Train first network to test accuracy around **97-98%**.\n",
    "\n",
    "*1)* Define optimizer over network parameters with some learning rate.\n",
    "\n",
    "*2) (optional)* For better results use `StepLR` (step learning rate) to decay learning rate after each epoch\n",
    "\n",
    "*3)* After each training call in loop call test function to see resulting model performance\n",
    "\n",
    "*4)* Number of epochs (i.e., train calls) is up to you, but around 15 should be enough"
   ]
  },
  {
   "cell_type": "code",
   "execution_count": 180,
   "metadata": {},
   "outputs": [
    {
     "name": "stdout",
     "output_type": "stream",
     "text": [
      "Epoch  1\n",
      "Loss at step 60 is 0.7575177470842998\n",
      "Loss at step 120 is 0.35896375303467115\n",
      "Loss at step 180 is 0.31901472955942156\n",
      "Loss at step 240 is 0.2662128167847792\n",
      "Loss at step 300 is 0.24354713608821232\n",
      "Loss at step 360 is 0.22339981161057948\n",
      "Loss at step 420 is 0.19140154644846916\n",
      "Loss at step 480 is 0.1826066704466939\n",
      "Loss at step 540 is 0.1826719203342994\n",
      "Loss at step 600 is 0.1687700190891822\n",
      "Average loss on the test data:  0.00014820183403789998\n",
      "Average accuracy on the test data: 95.64%\n",
      "Epoch  2\n",
      "Loss at step 60 is 0.15611765484015147\n",
      "Loss at step 120 is 0.13436714975784222\n",
      "Loss at step 180 is 0.13427716071407\n",
      "Loss at step 240 is 0.13246742052336533\n",
      "Loss at step 300 is 0.1295782510191202\n",
      "Loss at step 360 is 0.11743672086546818\n",
      "Loss at step 420 is 0.12188545164341728\n",
      "Loss at step 480 is 0.12233121742804845\n",
      "Loss at step 540 is 0.11513512879610062\n",
      "Loss at step 600 is 0.10119887137164672\n",
      "Average loss on the test data:  0.00010093426965177059\n",
      "Average accuracy on the test data: 96.93%\n",
      "Epoch  3\n",
      "Loss at step 60 is 0.09986979017655055\n",
      "Loss at step 120 is 0.08941693458085259\n",
      "Loss at step 180 is 0.10062094011033575\n",
      "Loss at step 240 is 0.09485524172584216\n",
      "Loss at step 300 is 0.0795073311155041\n",
      "Loss at step 360 is 0.08143385496611397\n",
      "Loss at step 420 is 0.08084576899806659\n",
      "Loss at step 480 is 0.08533083721995353\n",
      "Loss at step 540 is 0.07066530731196205\n",
      "Loss at step 600 is 0.08271996214364966\n",
      "Average loss on the test data:  8.36320886388421e-05\n",
      "Average accuracy on the test data: 97.46%\n",
      "Epoch  4\n",
      "Loss at step 60 is 0.07409694396580259\n",
      "Loss at step 120 is 0.0731808386122187\n",
      "Loss at step 180 is 0.06608200110495091\n",
      "Loss at step 240 is 0.07025283360853792\n",
      "Loss at step 300 is 0.06316178798054656\n",
      "Loss at step 360 is 0.058361820752422015\n",
      "Loss at step 420 is 0.05845650729412834\n",
      "Loss at step 480 is 0.06889066556468607\n",
      "Loss at step 540 is 0.06436092625372111\n",
      "Loss at step 600 is 0.054538647473479314\n",
      "Average loss on the test data:  7.485411316156387e-05\n",
      "Average accuracy on the test data: 97.71%\n",
      "Epoch  5\n",
      "Loss at step 60 is 0.05312992005298535\n",
      "Loss at step 120 is 0.05391957275569439\n",
      "Loss at step 180 is 0.04952963283285498\n",
      "Loss at step 240 is 0.051779028742263714\n",
      "Loss at step 300 is 0.04769348896419009\n",
      "Loss at step 360 is 0.05110862523627778\n",
      "Loss at step 420 is 0.05120556397984425\n",
      "Loss at step 480 is 0.05178806146917244\n",
      "Loss at step 540 is 0.04906792063266039\n",
      "Loss at step 600 is 0.0551919093200316\n",
      "Average loss on the test data:  6.855984721332789e-05\n",
      "Average accuracy on the test data: 97.87%\n",
      "Epoch  6\n",
      "Loss at step 60 is 0.03518403413084646\n",
      "Loss at step 120 is 0.04246598007157445\n",
      "Loss at step 180 is 0.037609282058353226\n",
      "Loss at step 240 is 0.04783952597063035\n",
      "Loss at step 300 is 0.03371560454834253\n",
      "Loss at step 360 is 0.04151338165005048\n",
      "Loss at step 420 is 0.043896577584867674\n",
      "Loss at step 480 is 0.04630587232920031\n",
      "Loss at step 540 is 0.040877496482183535\n",
      "Loss at step 600 is 0.04109674405772239\n",
      "Average loss on the test data:  6.566857527941465e-05\n",
      "Average accuracy on the test data: 97.90%\n",
      "Epoch  7\n",
      "Loss at step 60 is 0.033650102994094294\n",
      "Loss at step 120 is 0.03119342653080821\n",
      "Loss at step 180 is 0.03177530341781676\n",
      "Loss at step 240 is 0.03449735976755619\n",
      "Loss at step 300 is 0.03250257957261056\n",
      "Loss at step 360 is 0.03622181696506838\n",
      "Loss at step 420 is 0.033193752868101\n",
      "Loss at step 480 is 0.03833156992526104\n",
      "Loss at step 540 is 0.027545337510916094\n",
      "Loss at step 600 is 0.030861478586060306\n",
      "Average loss on the test data:  6.16850083693862e-05\n",
      "Average accuracy on the test data: 98.05%\n",
      "Epoch  8\n",
      "Loss at step 60 is 0.025284419977106155\n",
      "Loss at step 120 is 0.0291245111109068\n",
      "Loss at step 180 is 0.024932731214600306\n",
      "Loss at step 240 is 0.0267662827235957\n",
      "Loss at step 300 is 0.02891798331402242\n",
      "Loss at step 360 is 0.02533012822968885\n",
      "Loss at step 420 is 0.026427911152131854\n",
      "Loss at step 480 is 0.02911381107599785\n",
      "Loss at step 540 is 0.02694121963965396\n",
      "Loss at step 600 is 0.028391692034589747\n",
      "Average loss on the test data:  6.149617545306682e-05\n",
      "Average accuracy on the test data: 98.10%\n",
      "Epoch  9\n",
      "Loss at step 60 is 0.023198410946254928\n",
      "Loss at step 120 is 0.02199756312960138\n",
      "Loss at step 180 is 0.02466632758732885\n",
      "Loss at step 240 is 0.01968922441980491\n",
      "Loss at step 300 is 0.018058234515289467\n",
      "Loss at step 360 is 0.024782914272509515\n",
      "Loss at step 420 is 0.022989050128186743\n",
      "Loss at step 480 is 0.024161972881605227\n",
      "Loss at step 540 is 0.020499012883131704\n",
      "Loss at step 600 is 0.023136389752229054\n",
      "Average loss on the test data:  5.973617881536484e-05\n",
      "Average accuracy on the test data: 98.12%\n",
      "Epoch  10\n",
      "Loss at step 60 is 0.019736705988179892\n",
      "Loss at step 120 is 0.016199638593631487\n",
      "Loss at step 180 is 0.018306002862906703\n",
      "Loss at step 240 is 0.015495637311444928\n",
      "Loss at step 300 is 0.02150970516183103\n",
      "Loss at step 360 is 0.019137204193975778\n",
      "Loss at step 420 is 0.018857174972072243\n",
      "Loss at step 480 is 0.018486951105296613\n",
      "Loss at step 540 is 0.01915996252403905\n",
      "Loss at step 600 is 0.01871488889058431\n",
      "Average loss on the test data:  5.76773164793849e-05\n",
      "Average accuracy on the test data: 98.27%\n",
      "Epoch  11\n",
      "Loss at step 60 is 0.013682404331242045\n",
      "Loss at step 120 is 0.013870668566475312\n",
      "Loss at step 180 is 0.016066523757763206\n",
      "Loss at step 240 is 0.018008086058155945\n",
      "Loss at step 300 is 0.016462436531825612\n",
      "Loss at step 360 is 0.014340130185397962\n",
      "Loss at step 420 is 0.014137407625094056\n",
      "Loss at step 480 is 0.017319029193216314\n",
      "Loss at step 540 is 0.013650623336434364\n",
      "Loss at step 600 is 0.015616391102472942\n",
      "Average loss on the test data:  5.651883501559496e-05\n",
      "Average accuracy on the test data: 98.26%\n",
      "Epoch  12\n",
      "Loss at step 60 is 0.010224787200180193\n",
      "Loss at step 120 is 0.010745308757759631\n",
      "Loss at step 180 is 0.014862198712459454\n",
      "Loss at step 240 is 0.011345547003050646\n",
      "Loss at step 300 is 0.013145612083220234\n",
      "Loss at step 360 is 0.012317843537312\n",
      "Loss at step 420 is 0.01357397681567818\n",
      "Loss at step 480 is 0.012469298539993663\n",
      "Loss at step 540 is 0.01400725911759461\n",
      "Loss at step 600 is 0.01493148624431342\n",
      "Average loss on the test data:  5.825529033318162e-05\n",
      "Average accuracy on the test data: 98.21%\n",
      "Epoch  13\n",
      "Loss at step 60 is 0.011235623050015419\n",
      "Loss at step 120 is 0.011033340962603689\n",
      "Loss at step 180 is 0.009690561688815554\n",
      "Loss at step 240 is 0.0129287462720337\n",
      "Loss at step 300 is 0.01068700357573107\n",
      "Loss at step 360 is 0.011102510387233148\n",
      "Loss at step 420 is 0.009948127577081323\n",
      "Loss at step 480 is 0.009927114056578527\n",
      "Loss at step 540 is 0.011802055267617106\n",
      "Loss at step 600 is 0.011202278741014501\n",
      "Average loss on the test data:  5.576554061844945e-05\n",
      "Average accuracy on the test data: 98.34%\n",
      "Epoch  14\n",
      "Loss at step 60 is 0.009543578446997951\n",
      "Loss at step 120 is 0.009705999179277568\n",
      "Loss at step 180 is 0.010561916305838774\n",
      "Loss at step 240 is 0.008489966495350625\n",
      "Loss at step 300 is 0.007932485857357582\n",
      "Loss at step 360 is 0.009206725024462988\n",
      "Loss at step 420 is 0.010781652354247247\n",
      "Loss at step 480 is 0.0099315301515162\n",
      "Loss at step 540 is 0.00854847845621407\n",
      "Loss at step 600 is 0.00983685979153961\n",
      "Average loss on the test data:  5.4904031194746494e-05\n",
      "Average accuracy on the test data: 98.33%\n",
      "Epoch  15\n",
      "Loss at step 60 is 0.006563844654010609\n",
      "Loss at step 120 is 0.007330307475058362\n",
      "Loss at step 180 is 0.011494616147441168\n",
      "Loss at step 240 is 0.0066907497122883795\n",
      "Loss at step 300 is 0.008955500513548032\n",
      "Loss at step 360 is 0.008840643449608858\n",
      "Loss at step 420 is 0.007698024755033354\n",
      "Loss at step 480 is 0.008172802211871992\n",
      "Loss at step 540 is 0.008245370412866274\n",
      "Loss at step 600 is 0.007641500647878274\n",
      "Average loss on the test data:  5.658902493305504e-05\n",
      "Average accuracy on the test data: 98.32%\n"
     ]
    }
   ],
   "source": [
    "model = FCN()\n",
    "optimizer = optim.SGD(model.parameters(), lr=1e-1) \n",
    "# ===> Implement training\n",
    "n_epoch = 15\n",
    "\n",
    "# ===> Train + test step with optional StepLR call\n",
    "for epoch in range(1, n_epoch + 1):\n",
    "    print('Epoch ', epoch)\n",
    "    train(model, train_loader, optimizer, epoch)\n",
    "    av_test_loss = test(model, test_loader)\n",
    "#     break"
   ]
  },
  {
   "cell_type": "markdown",
   "metadata": {},
   "source": [
    "Here we save this model for later connectivity experiments"
   ]
  },
  {
   "cell_type": "code",
   "execution_count": 28,
   "metadata": {},
   "outputs": [],
   "source": [
    "model_1 = deepcopy(model)"
   ]
  },
  {
   "cell_type": "markdown",
   "metadata": {},
   "source": [
    "**Task 2:** Train the second model for path construction."
   ]
  },
  {
   "cell_type": "code",
   "execution_count": null,
   "metadata": {},
   "outputs": [],
   "source": [
    "model = FCN()\n",
    "optimizer = optim.SGD(model.parameters(), lr=1e-1) \n",
    "# ===> Implement training\n",
    "n_epoch = 15\n",
    "\n",
    "# ===> Train + test step with optional StepLR call\n",
    "for epoch in range(1, n_epoch + 1):\n",
    "    print('Epoch ', epoch)\n",
    "    train(model, train_loader, optimizer, epoch)\n",
    "    av_test_loss = test(model, test_loader)\n",
    "    "
   ]
  },
  {
   "cell_type": "markdown",
   "metadata": {},
   "source": [
    "Saving resulting model for further usage."
   ]
  },
  {
   "cell_type": "code",
   "execution_count": 30,
   "metadata": {},
   "outputs": [],
   "source": [
    "model_2 = deepcopy(model)"
   ]
  },
  {
   "cell_type": "markdown",
   "metadata": {},
   "source": [
    "## Path construction\n",
    "\n",
    "In this section we will constuct a simple two-segment linear path of low loss between two solutions. The path between network parameters $\\theta_1$ and $\\theta_2$ has the following parameteric form\n",
    "\n",
    "$$\n",
    "\\pi(t) = \n",
    "\\begin{cases} 2((0.5-t)\\theta_1 + t\\theta), \\quad t \\in [0,0.5] \\\\\n",
    "2(t\\theta_2 + (0.5-t)\\theta), \\quad t \\in [0.5,1] \n",
    "\\end{cases}.\n",
    "$$\n",
    "\n",
    "We aim to find $\\theta$ such that the value of risk for any $t \\in [0,1]$ is small, i.e.,\n",
    "\n",
    "$$\n",
    "\\mathbb{E}_{(x,y) \\sim \\mathcal{D}} \\mathcal{L}(f_{\\pi(t)}(x), y) \\leq \\max[ \\mathbb{E}_{(x,y) \\sim \\mathcal{D}} \\mathcal{L}(f_{\\theta_1}(x), y), \\mathbb{E}_{(x,y) \\sim \\mathcal{D}} \\mathcal{L}(f_{\\theta_2}(x), y)] + \\varepsilon,\n",
    "$$\n",
    "\n",
    "does not exceed the value of both end network plus some small value. How we can achieve that? The work around is quite simple:\n",
    "\n",
    "*1)* for each part of training dataset, i.e., `(data, target)` pair from one iteration over `train_loader` sample $t \\sim \\textrm{Uniform[0,1]}$\n",
    "\n",
    "*2)* Compute the loss on this pair for network with parameters $\\pi(t)$\n",
    "\n",
    "*3)* Compute derivatives w.r.t. $\\theta$ to minimize the loss and make a step of optimizer\n",
    "\n",
    "*4)* Repeat above proceedure for several epochs\n",
    "\n",
    "\n",
    "\n",
    "\n",
    "**Technical note:** Due to restrictions of PyTorch we will use `CurveFCN` class below to insert the parameter values from the path in order to allow backpropagation."
   ]
  },
  {
   "cell_type": "code",
   "execution_count": 173,
   "metadata": {},
   "outputs": [],
   "source": [
    "class Linear(nn.Module):\n",
    "    \n",
    "    def __init__(self, weight, bias):\n",
    "        super(Linear, self).__init__()\n",
    "        self.weight = weight\n",
    "        self.bias = bias\n",
    "        \n",
    "    def forward(self, x):\n",
    "        return F.linear(x, self.weight, self.bias)\n",
    "\n",
    "class CurveFCN(nn.Module):\n",
    "    \n",
    "    def __init__(self, weight_1, bias_1, weight_2, bias_2):\n",
    "        super(CurveFCN, self).__init__()\n",
    "        self.fc1 = Linear(weight_1, bias_1)\n",
    "        self.fc2 = Linear(weight_2, bias_2)\n",
    "        self.act = nn.ReLU()\n",
    "        \n",
    "    def forward(self, x):\n",
    "        output = self.act(self.fc1(x))\n",
    "        output = self.fc2(output)\n",
    "        return output"
   ]
  },
  {
   "cell_type": "markdown",
   "metadata": {},
   "source": [
    "**Task 1:** Given $\\theta_1 = \\textrm{start}$, $\\theta_2 = \\textrm{end}$, $\\theta = \\textrm{middle}$ and time step \n",
    "$t$ implement a function below which returns a new point which corresponds to $\\pi(t)$. \n",
    "\n",
    "\n",
    "**Note:** Strictly speaking each $\\pi(t)$ consists of 4 parameters `(weight_1, bias_1)` for weights and bias term of first linear layer and `(weight_2, bias_2)` for parameters of second. In this function we assume that we get a consistent triplet, e.g., weights of first layer. In next task we will call this function on all triplets."
   ]
  },
  {
   "cell_type": "code",
   "execution_count": 192,
   "metadata": {},
   "outputs": [],
   "source": [
    "def get_chain_element(t, start, middle, end):\n",
    "    if 0 <= t <= 0.5:\n",
    "        pi = 2*((0.5-t)*start + t*middle)\n",
    "    elif 0.5 < t <= 1:\n",
    "        pi = 2*(t*end + (0.5-t)*middle)\n",
    "    else: print('error in pi')\n",
    "    return pi"
   ]
  },
  {
   "cell_type": "markdown",
   "metadata": {},
   "source": [
    "Below we emplemented a function which outputs a network with parameters sampled from path."
   ]
  },
  {
   "cell_type": "code",
   "execution_count": 191,
   "metadata": {},
   "outputs": [],
   "source": [
    "def get_net(t, model_1, model_mid, model_2):\n",
    "\n",
    "    params_start = list(model_1.parameters())\n",
    "    params_end = list(model_2.parameters())\n",
    "    params_middle = model_mid\n",
    "    \n",
    "    params = []\n",
    "    for idx in range(len(params_start)):\n",
    "        start, middle, end = params_start[idx], params_middle[idx], params_end[idx]\n",
    "        new_param = get_chain_element(t, start, middle, end)\n",
    "        params.append(new_param)\n",
    "    new_model = CurveFCN(*params)\n",
    "        \n",
    "    return new_model"
   ]
  },
  {
   "cell_type": "markdown",
   "metadata": {},
   "source": [
    "**Task 2:** Implement a training algorithm for $\\theta$. \n",
    "\n",
    "For a certain amount of epochs go through the dataset and on each subset of training dataset sample a timestemp $t$. \n",
    "\n",
    "After use `get_net(t, model_1, model_mid, model_2)` to obtain a network model with parameters $\\pi(t)$. For which compute a loss on current subset and gradient for optimization step.\n",
    "\n",
    "**Note:** you are free to tune optimizer parameters and number of epochs."
   ]
  },
  {
   "cell_type": "code",
   "execution_count": 33,
   "metadata": {},
   "outputs": [
    {
     "name": "stdout",
     "output_type": "stream",
     "text": [
      "torch.Size([10, 500])\n"
     ]
    }
   ],
   "source": [
    "print(list(model_1.parameters())[2].shape)"
   ]
  },
  {
   "cell_type": "code",
   "execution_count": null,
   "metadata": {},
   "outputs": [],
   "source": [
    "model_mid = list(FCN().parameters())\n",
    "\n",
    "optimizer = optim.Adam(model_mid, lr=0.0001, weight_decay=1e-7)\n",
    "\n",
    "for epoch in range(1, 2 + 1): #54\n",
    "    \n",
    "    for batch_idx, (data, target) in enumerate(train_loader):\n",
    "        t = torch.rand(1)[0] # sample timestemp\n",
    "        # input\n",
    "        data = data.view(-1,28 * 28) # reshape 2d image to vector of size 28x28\n",
    "\n",
    "        # get model and make an optimization step\n",
    "        new_model = get_net(t, model_1, model_mid, model_2)\n",
    "        output = new_model(data)\n",
    "        #loss function\n",
    "        L = F.cross_entropy(output, target)\n",
    "        #back propagation \n",
    "        L.backward()\n",
    "        optimizer.step() # make one optimization step\n",
    "        optimizer.zero_grad()\n",
    "        \n",
    "    test_loss = test(new_model, test_loader)"
   ]
  },
  {
   "cell_type": "markdown",
   "metadata": {},
   "source": [
    "**Task 3:** Implement a function which computes test loss for 50 timesteps in $[0,1]$ interval and returns resulting array of losses."
   ]
  },
  {
   "cell_type": "code",
   "execution_count": 194,
   "metadata": {},
   "outputs": [],
   "source": [
    "def get_path(model_1, model_mid, model_2):\n",
    "    timesteps = np.linspace(0, 1, 50)\n",
    "    \n",
    "    # iterate over test data, output loss and test\n",
    "    loss = F.cross_entropy(model_1, target)\n",
    "    loss.backward()\n",
    "    \n",
    "    test_loss = test(new_model, test_loader)"
   ]
  },
  {
   "cell_type": "code",
   "execution_count": null,
   "metadata": {},
   "outputs": [],
   "source": [
    "res = get_path(model_1, model_mid, model_2)"
   ]
  },
  {
   "cell_type": "markdown",
   "metadata": {},
   "source": [
    "**Task 4:** To compare our learn path we choose a simple linear interpolation between two points, namely\n",
    "\n",
    "$$\n",
    "\\pi_{\\textrm{linear}}(t) = (1-t)\\theta_1 + t \\theta_2,\\quad t \\in [0,1]\n",
    "$$\n",
    "\n",
    "Implement it in function `get_linear_element` in similar spirit to `get_chain_element`."
   ]
  },
  {
   "cell_type": "code",
   "execution_count": 205,
   "metadata": {},
   "outputs": [],
   "source": [
    "def get_linear_element(t, start, end):\n",
    "    return (1-t)*start + t*end"
   ]
  },
  {
   "cell_type": "code",
   "execution_count": 209,
   "metadata": {},
   "outputs": [],
   "source": [
    "def get_linear_net(t, model_1, model_2):\n",
    "\n",
    "    params_start = list(model_1.parameters())\n",
    "    params_end = list(model_2.parameters())\n",
    "    \n",
    "    params = []\n",
    "    for idx in range(len(params_start)):\n",
    "        start, end = params_start[idx], params_end[idx]\n",
    "        new_param = get_linear_element(t, start, end)\n",
    "        params.append(new_param)\n",
    "    new_model = CurveFCN(*params)\n",
    "        \n",
    "    return new_model"
   ]
  },
  {
   "cell_type": "markdown",
   "metadata": {},
   "source": [
    "**Task 5:** Similar to **task 3** implement a function which returns a loss values for 50 timesteps which partition $[0,1]$ interval on equal pieces but for **linear interpolation** (call `get_linear_net`)"
   ]
  },
  {
   "cell_type": "code",
   "execution_count": 210,
   "metadata": {},
   "outputs": [],
   "source": [
    "def get_path_linear(model_1, model_mid, model_2):  \n",
    "    # => implement\n"
   ]
  },
  {
   "cell_type": "code",
   "execution_count": null,
   "metadata": {},
   "outputs": [],
   "source": [
    "res_lin = get_path_linear(model_1, model_mid, model_2)"
   ]
  },
  {
   "cell_type": "markdown",
   "metadata": {},
   "source": [
    "**Task 6:** Plot loss on linear path and two-segment one on a single plot.\n",
    "\n",
    "**Hint:** if everything is correct the loss on two-segment one should be significantly smaller than of linear interpolation."
   ]
  },
  {
   "cell_type": "code",
   "execution_count": 212,
   "metadata": {},
   "outputs": [
    {
     "data": {
      "image/png": "[encoded data removed]",
      "text/plain": [
       "<Figure size 432x288 with 1 Axes>"
      ]
     },
     "metadata": {
      "needs_background": "light"
     },
     "output_type": "display_data"
    }
   ],
   "source": [
    "# => plot loss on paths"
   ]
  },
  {
   "cell_type": "markdown",
   "metadata": {},
   "source": [
    "### (Bonus part) \n",
    "\n",
    "Try to get similar results for the path defined by the **Bezier curve**. It has the following parametric form\n",
    "\n",
    "$$\n",
    "\\pi(t) = (1-t^2)\\theta_1 + t^2 \\theta_2 + 2t(1-t) \\theta, \\quad t \\in [0,1],\n",
    "$$\n",
    "\n",
    "$\\theta$ is parameter which needs to be trained to get a path of low loss."
   ]
  },
  {
   "cell_type": "code",
   "execution_count": null,
   "metadata": {},
   "outputs": [],
   "source": [
    "# => implementation follows"
   ]
  }
 ],
 "metadata": {
  "kernelspec": {
   "display_name": "Python 3",
   "language": "python",
   "name": "python3"
  },
  "language_info": {
   "codemirror_mode": {
    "name": "ipython",
    "version": 3
   },
   "file_extension": ".py",
   "mimetype": "text/x-python",
   "name": "python",
   "nbconvert_exporter": "python",
   "pygments_lexer": "ipython3",
   "version": "3.8.5"
  }
 },
 "nbformat": 4,
 "nbformat_minor": 4
}
