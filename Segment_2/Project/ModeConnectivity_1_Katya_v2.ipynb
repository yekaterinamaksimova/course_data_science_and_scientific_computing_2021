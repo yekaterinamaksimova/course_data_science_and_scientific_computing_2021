{
 "cells": [
  {
   "cell_type": "markdown",
   "metadata": {},
   "source": [
    "# Mode Connectivity of Neural Networks (Part 1)\n",
    "\n",
    "<br>\n",
    "\n",
    "## Intro to the Problem\n",
    "<br>\n",
    "Consider a neural network with parameters $\\theta \\in \\mathbb{R}^D$ and function $f(\\theta): \\mathbb{R}^D \\rightarrow \\mathbb{R}$ which evaluates the error/loss of the network with given set of parameters. In this view, optimization landscape is a surface defined by $(\\theta, f(\\theta))$ for all $\\theta \\in \\mathbb{R}^D$.\n",
    "\n",
    "The optimization landscape for non-convex problems, such as neural network training, typically exhibits many poor local optima and is challenging for optimization algorithms. In this project we investigate an interesting phenomenon  first described in line of works by Garipov & Draxler, called **mode connectivity**. In particular, it was shown that solutions found by SGD for large network are not isolated points in the parameter space, but rather connected via continous path on which the value of risk does not differ much from the end points."
   ]
  },
  {
   "cell_type": "markdown",
   "metadata": {},
   "source": [
    "<img src=\"ileyeofcgjsdc52q3jildv6alkk.jpeg\" alt=\"Drawing\" style=\"width: 400px;\"/>\n",
    "<br>\n",
    "<center> Fig. 1: An example of optimization landscape of non-convex problem<center>"
   ]
  },
  {
   "cell_type": "markdown",
   "metadata": {},
   "source": [
    "Notably, a simple linear interpolation between the solutions is not enough and the path ought to be constructed in more intelligent fashion. In this part of the project we imprement an algorithm from **\"Loss Surfaces, Mode Connectivity, and Fast Ensembling of DNNs\"** by Timur Garipov et al., to find a suitable path between two solutions found by an optimization algorithm."
   ]
  },
  {
   "cell_type": "markdown",
   "metadata": {},
   "source": [
    "## Network Training on MNIST\n",
    "\n",
    "<br>\n",
    "\n",
    "First things first, we would need to get these two solutions. In this project we consider training a simple two-layer fully connected network for the MNIST classification task, i.e., neural network should be able to assign a correct class to the input digit image.\n",
    "\n",
    "<img src=\"two-layer.png\" alt=\"Drawing\" style=\"width: 400px;\"/>\n",
    "<br>\n",
    "<center> Fig. 2: Schematic illustration of two-layer neural network<center>\n",
    "<br>\n",
    "    \n",
    "To train a network and for further path construction manipulations we will rely on the Automatic Differentiation package called PyTorch, as it is relatively user-friendly and provides with all tools we would need."
   ]
  },
  {
   "cell_type": "code",
   "execution_count": 1,
   "metadata": {},
   "outputs": [],
   "source": [
    "# importing all necessary packages\n",
    "\n",
    "import torch\n",
    "import torch.nn as nn\n",
    "import torch.nn.functional as F\n",
    "import torch.optim as optim\n",
    "\n",
    "from torchvision import datasets, transforms\n",
    "from torch.optim.lr_scheduler import StepLR\n",
    "\n",
    "from copy import deepcopy\n",
    "# import \n",
    "\n",
    "import matplotlib.pyplot as plt\n",
    "%matplotlib inline\n",
    "\n",
    "import numpy as np"
   ]
  },
  {
   "cell_type": "markdown",
   "metadata": {},
   "source": [
    "### Minimal working examples\n",
    "\n",
    "In this section, we will try to cover the basic logics of PyTorch framework. In a nutshell, it allows to compute the derivatives for any $f : \\mathbb{R}^d \\rightarrow \\mathbb{R}$ w.r.t. the input $x \\in \\mathbb{R}^d$. The input $x$ should be either `torch.Tensor` for which `requires_grad=True` or `torch.nn.Parameter`. To illustrate consider\n",
    "\n",
    "$$\n",
    "f(x) = x_1^2 + 2 x_1 x_2 + x_2^2, \\quad x \\in \\mathbb{R}^2\n",
    "$$\n",
    "\n",
    "thus the derivatives w.r.t. $x$ can be computed as follows \n",
    "\n",
    "$$\n",
    "\\frac{\\partial f}{\\partial x_1} = 2 x_1 + 2 x_2, \\quad \\frac{\\partial f}{\\partial x_2} = 2 x_2 + 2 x_1\n",
    "$$\n",
    "\n",
    "Now let us check if PyTorch would give us a proper answer."
   ]
  },
  {
   "cell_type": "code",
   "execution_count": 2,
   "metadata": {},
   "outputs": [
    {
     "name": "stdout",
     "output_type": "stream",
     "text": [
      "tensor([4., 4.])\n"
     ]
    }
   ],
   "source": [
    "x = torch.tensor([1., 1.], requires_grad = True)  # we want derivative of f w.r.t. x in point where x = (1,1)\n",
    "f = x[0] ** 2 + 2 * x[0] * x[1] + x[1] ** 2  # define a function value at point x = (1,1)\n",
    "f.backward()  # computes a gradient w.r.t x which is stored in x.grad field\n",
    "print(x.grad)"
   ]
  },
  {
   "cell_type": "markdown",
   "metadata": {},
   "source": [
    "As one can see the output is correct since for both coordinates\n",
    "\n",
    "$$\n",
    "\\frac{\\partial f}{\\partial x_1}(1,1) = 2 x_1 + 2 x_2 = 2 \\cdot 1 + 2 \\cdot 1 = \\quad \\frac{\\partial f}{\\partial x_2}(1,1).\n",
    "$$\n",
    "\n",
    "With this in mind we can now try to implement a steapest descent to find a minimum of function $f$. Note that the global minimum is obviously allocated at point any point where $x_1 = - x_2$ since $f(x) = (x_1 + x_2)^2$. \n",
    "<br>\n",
    "\n",
    "Fortunately, many steepest descent procedures are already implemented in `torch.optim`, we will use a simple one - Gradient Descent (GD). At each step we compute the gradient at current point and then make a step in the opposite direction with some \"learning rate\" $\\alpha$, formally\n",
    "\n",
    "$$\n",
    "x^{(t + 1)} = x^{(t)} - \\alpha \\cdot \\nabla f(x^{(t)}).\n",
    "$$\n",
    "\n",
    "We can continue this procedure until convergence or just fixing a maximum amount of iterations we should perform. The example code could be found below."
   ]
  },
  {
   "cell_type": "code",
   "execution_count": 3,
   "metadata": {},
   "outputs": [
    {
     "name": "stdout",
     "output_type": "stream",
     "text": [
      "tensor([6.5332e-23, 6.5332e-23], requires_grad=True)\n"
     ]
    }
   ],
   "source": [
    "x = torch.tensor([1., 1.], requires_grad = True) # initialize a starting point for GD\n",
    "\n",
    "optimizer = optim.SGD([x], lr=1e-1) # define optimizer first argument is a list of variables over which\n",
    "# we want to optimize, lr = learning rate\n",
    "\n",
    "for it in range(100): # 100 is the number of GD iterations we set\n",
    "    f = x.sum().pow(2) # for each x^t we compute the corresponding value of f to get gradient after\n",
    "    # x.sum().pow(2) gives the same result as x[0] ** 2 + 2 * x[0] * x[1] + x[1] ** 2\n",
    "    f.backward() # get the gradient at current point\n",
    "    optimizer.step() # make one optimization step\n",
    "    optimizer.zero_grad() # sets the field x.grad to zero, since otherwise on next backward \n",
    "    # the gradient would be added to the previous value -> would be wrong (i.e., grads are\n",
    "    # stored always by default unless you zero them down) \n",
    "    \n",
    "print(x) # get the value of x after 100 iterations"
   ]
  },
  {
   "cell_type": "markdown",
   "metadata": {},
   "source": [
    "What went wrong? Why did we end up in a point which is approximately $(0,0)$? The answer is: GD procedure can find any stationary point, i.e., where $\\nabla f(x) = 0$. One can check that $(0,0)$ is indeed one but not a global minimum! How can we cure this? Simply by trying more initial points and picking the one which gives the best value of $f$. However since we know that in global minimum $x_1 = - x_2$ we can cheat and initialize for instance with $x=(2,-1)$ (to not get stuck at bad (0,0) point)."
   ]
  },
  {
   "cell_type": "code",
   "execution_count": 4,
   "metadata": {},
   "outputs": [
    {
     "name": "stdout",
     "output_type": "stream",
     "text": [
      "tensor([ 1.5000, -1.5000], requires_grad=True)\n"
     ]
    }
   ],
   "source": [
    "x = torch.tensor([2., -1.], requires_grad = True) # cheating\n",
    "\n",
    "optimizer = optim.SGD([x], lr=1e-1)\n",
    "\n",
    "for it in range(100):\n",
    "    f = x.sum().pow(2)\n",
    "    f.backward()\n",
    "    optimizer.step()\n",
    "    optimizer.zero_grad()\n",
    "    \n",
    "print(x)"
   ]
  },
  {
   "cell_type": "markdown",
   "metadata": {},
   "source": [
    "Now everying is perfect since we found a point where $x_1 = -x_2$. \n",
    "\n",
    "\n",
    "##### Neural Network Training Outline\n",
    "\n",
    "Now consider a more complicated optimization procedure – neural network training. Although we will cover each step thoroughly in next section, in nutshell it can be described as follows:\n",
    "\n",
    "<br>\n",
    "Now we have a complicated function (NN) $f_{\\theta}(x)$ which depends on weights $\\theta$ and input $x$. We will focus only on classification. Consider a data $(x,y)$ ($x$ is input and $y$ is correct label for current $x$) which comes from some distribution $\\mathcal{D}$. And assume we have a measure of how good network prediction $f_{\\theta}(x)$ is compared to true $y$ - we call it $\\mathcal{L}(\\cdot, \\cdot)$. In this view, we want to find a parameters $\\theta$ which minimize the expected loss\n",
    "\n",
    "$$\n",
    "\\mathbb{E}_{(x,y) \\sim \\mathcal{D}} \\mathcal{L}(f_{\\theta}(x), y),\n",
    "$$\n",
    "\n",
    "we can do so by sampling a subset of examples from $\\mathcal{D}$ of size $B$, i.e., $\\{(x_i,y_i)\\}_{i=1}^B \\sim \\mathcal{D}^B$ on each step and computing a gradient of\n",
    "\n",
    "$$\n",
    "\\frac{1}{B} \\sum_{i=1}^M \\mathcal{L}(f_{\\theta}(x_i), y_i)\n",
    "$$\n",
    "\n",
    "w.r.t. $\\theta$ and update $\\theta$ with gradient step."
   ]
  },
  {
   "cell_type": "markdown",
   "metadata": {},
   "source": [
    "### Network Definition and Training"
   ]
  },
  {
   "cell_type": "markdown",
   "metadata": {},
   "source": [
    "#### Step 1: Dataset\n",
    "\n",
    "First we download the dataset and normalize each image for optimization stability. `train_loader` and `test_loader` are iterators for corresponding parts of the dataset."
   ]
  },
  {
   "cell_type": "code",
   "execution_count": 5,
   "metadata": {},
   "outputs": [],
   "source": [
    "# convert image to tensor for PyTorch, and normalize with mean and std for stability\n",
    "transform = transforms.Compose([\n",
    "        transforms.ToTensor(),\n",
    "        transforms.Normalize((0.1307,), (0.3081,))\n",
    "        ])\n",
    "\n",
    "# downloading training and test parts of MNIST dataset\n",
    "dataset1 = datasets.MNIST('../data', train=True, download=True,\n",
    "                   transform=transform)\n",
    "dataset2 = datasets.MNIST('../data', train=False,\n",
    "                   transform=transform)\n",
    "\n",
    "# get train and test samplers with B=100 for train and B=1000 for test\n",
    "train_loader = torch.utils.data.DataLoader(dataset1, batch_size=100, shuffle=True)\n",
    "test_loader = torch.utils.data.DataLoader(dataset2, batch_size=1000, shuffle=False)"
   ]
  },
  {
   "cell_type": "markdown",
   "metadata": {},
   "source": [
    "Below you can see the sample images from the dataset."
   ]
  },
  {
   "cell_type": "code",
   "execution_count": 6,
   "metadata": {},
   "outputs": [
    {
     "data": {
      "image/png": "[encoded data removed]",
      "text/plain": [
       "<Figure size 720x360 with 8 Axes>"
      ]
     },
     "metadata": {
      "needs_background": "light"
     },
     "output_type": "display_data"
    }
   ],
   "source": [
    "fig, ax = plt.subplots(nrows=2, ncols=4, figsize=(10,5))\n",
    "\n",
    "data = next(iter(test_loader))[0][0:8]\n",
    "for i in range(8):\n",
    "    ax[i // 4][i % 4].imshow(data[i].numpy()[0,:,:])\n",
    "    ax[i // 4][i % 4].axis('off')\n",
    "plt.show()"
   ]
  },
  {
   "cell_type": "markdown",
   "metadata": {},
   "source": [
    "#### Step 2: Network Definition\n",
    "\n",
    "For this task we will train a two-layer network with 500 hidden units. Since each MNIST image has size $28 \\times 28$ first linear layer has shape $(28 \\cdot 28) \\times 500$. As the number of classes for digits is equal to $10$ final layer has shape $500 \\times 10$. As an activation function we will use Rectified Linear Unit (`nn.ReLU`). **The network outputs the vector of size 10 which corresponds to probability of each class**.\n",
    "\n",
    "\n",
    "**Task1:** Implement a forward pass for this network which consists of\n",
    "\n",
    "$$\n",
    "\\textrm{input} \\rightarrow \\textrm{Linear layer 1} \\rightarrow \\textrm{ReLU} \\rightarrow \\textrm{Linear layer 2}\n",
    "$$\n",
    "\n",
    "in corresponding function. Each layer or activation output on input $x$ can be obtained calling\n",
    "\n",
    "$$\n",
    "\\textrm{layer/act}(x)\n",
    "$$\n",
    "\n",
    "The forward pass for the model on input is called in the same fashion."
   ]
  },
  {
   "cell_type": "code",
   "execution_count": 7,
   "metadata": {},
   "outputs": [],
   "source": [
    "class FCN(nn.Module):\n",
    "    \n",
    "    def __init__(self):\n",
    "        super(FCN, self).__init__()\n",
    "        self.fc1 = nn.Linear(28 * 28, 500)\n",
    "        self.fc2 = nn.Linear(500, 10)\n",
    "        self.act = nn.ReLU()\n",
    "        \n",
    "    def forward(self, x):\n",
    "        x = self.fc1(x)\n",
    "        x = self.act(x)\n",
    "        x = self.fc2(x)\n",
    "        return x"
   ]
  },
  {
   "cell_type": "markdown",
   "metadata": {},
   "source": [
    "All network parameters can be accessed via `.parameters()` method."
   ]
  },
  {
   "cell_type": "markdown",
   "metadata": {},
   "source": [
    "#### Step 3: Training Epoch\n",
    "\n",
    "For classification task we will use $\\mathcal{L}$ which is cross-entropy loss. It can be accessed by calling `F.cross_entropy(output, target)`, where `output` is the result of forward pass through the model and `target` are true labels.\n",
    "\n",
    "**Task1:**\n",
    "In cell bellow implement one step of optimization proceedure:\n",
    "\n",
    "*1)* Obtain output for current subset of dataset, i.e., `data`\n",
    "\n",
    "*2)* Compute loss objective on current `output` and `target`\n",
    "\n",
    "*3)* Compute the gradient update and make a step\n",
    "\n",
    "**Task2:** In addition, it is helpful to see that the loss is decreasing during iterations. Thus, implement progress tracker which will print the loss value periodically (say each 60 steps <=> `batch_idx % 60 == 0` ).\n"
   ]
  },
  {
   "cell_type": "code",
   "execution_count": 8,
   "metadata": {},
   "outputs": [],
   "source": [
    "def train(model, train_loader, optimizer, epoch):\n",
    "    model.train()\n",
    "    running_loss = 0.0\n",
    "    for batch_idx, (data, target) in enumerate(train_loader): # sample subset of dataset - (x,y)\n",
    "        # input\n",
    "        data = data.view(-1,28 * 28) # reshape 2d image to vector of size 28x28\n",
    "        \n",
    "        # => Implement a computation of gradient for current batch of data\n",
    "\n",
    "        #forward propagation\n",
    "        optimizer.zero_grad()\n",
    "        output = model(data)\n",
    "#         output = model.forward(data)\n",
    "        #lost function\n",
    "        L = F.cross_entropy(output, target)\n",
    "        #back propagation \n",
    "        L.backward()\n",
    "        optimizer.step()  \n",
    "        \n",
    "        # => Implement progress tracker\n",
    "        running_loss += L.item()\n",
    "        if batch_idx % 60 == 59:\n",
    "            print(\"Loss at step {} is {}\".format(batch_idx+1, running_loss/60))\n",
    "            running_loss = 0.0"
   ]
  },
  {
   "cell_type": "markdown",
   "metadata": {},
   "source": [
    "#### Step 4: Test epoch\n",
    "\n",
    "As model is trained on the training part of the dataset a good performance measurement is to track loss and accuracy\n",
    "\n",
    "$$\n",
    "\\textrm{accuracy(output, target)} =  \\mathbb{I}\\{\\arg\\max_{i}\\textrm{output}_i = target\\},\n",
    "$$\n",
    "\n",
    "i.e., if max probability is assigned to a correct class, which model achieves on a test part of the dataset which it did not see.\n",
    "\n",
    "\n",
    "**Task 1:** Compute the loss objective and accuracy averaged over the whole test dataset. Print it and return average test loss value as function output."
   ]
  },
  {
   "cell_type": "code",
   "execution_count": 40,
   "metadata": {},
   "outputs": [],
   "source": [
    "def test(model, test_loader, print_par = False):\n",
    "    model.eval()\n",
    "    test_loss = 0\n",
    "    accuracy = 0\n",
    "    with torch.no_grad(): # to not store the gradients (i.e., ease memory requirement)\n",
    "        for data, target in test_loader:\n",
    "            data = data.view(-1,28 * 28)\n",
    "    # ===> Implement progress tracker\n",
    "#             x = torch.tensor(data, requires_grad = True)\n",
    "            output = model(data)\n",
    "            test_loss += F.cross_entropy(output, target).item()\n",
    "            pred = output.argmax(dim=1, keepdim=True)\n",
    "            accuracy += pred.eq(target.view_as(pred)).sum().item()\n",
    "    test_loss /= len(test_loader.dataset)\n",
    "    accuracy /= len(test_loader.dataset)\n",
    "    if print_par == True:\n",
    "        print('Average loss on the test data: ', test_loss)\n",
    "        print('Average accuracy on the test data: {:.2f}%'.format(100* accuracy))\n",
    "    return test_loss"
   ]
  },
  {
   "cell_type": "markdown",
   "metadata": {},
   "source": [
    "#### Step 5:  Train two networks for connectivity experiments\n",
    "\n",
    "Now we have both training and test functions in our hands. Train function implements one pass over the whole dataset.\n",
    "\n",
    "**Task 1:** Train first network to test accuracy around **97-98%**.\n",
    "\n",
    "*1)* Define optimizer over network parameters with some learning rate.\n",
    "\n",
    "*2) (optional)* For better results use `StepLR` (step learning rate) to decay learning rate after each epoch\n",
    "\n",
    "*3)* After each training call in loop call test function to see resulting model performance\n",
    "\n",
    "*4)* Number of epochs (i.e., train calls) is up to you, but around 15 should be enough"
   ]
  },
  {
   "cell_type": "code",
   "execution_count": 43,
   "metadata": {},
   "outputs": [
    {
     "name": "stdout",
     "output_type": "stream",
     "text": [
      "Epoch  1 . Learning rate  [0.1]\n",
      "Loss at step 60 is 0.7573317711551985\n",
      "Loss at step 120 is 0.35663134654363\n",
      "Loss at step 180 is 0.2981538546582063\n",
      "Loss at step 240 is 0.2769935503602028\n",
      "Loss at step 300 is 0.236839152003328\n",
      "Loss at step 360 is 0.2175705809146166\n",
      "Loss at step 420 is 0.1995322725425164\n",
      "Loss at step 480 is 0.17811228185892106\n",
      "Loss at step 540 is 0.17451139905800422\n",
      "Loss at step 600 is 0.16325414975484212\n",
      "Epoch  2 . Learning rate  [0.1]\n",
      "Loss at step 60 is 0.14401906511435905\n",
      "Loss at step 120 is 0.13668231113503376\n",
      "Loss at step 180 is 0.1390680868178606\n",
      "Loss at step 240 is 0.13733451291918755\n",
      "Loss at step 300 is 0.12299841543038686\n",
      "Loss at step 360 is 0.12386636137962341\n",
      "Loss at step 420 is 0.12009356037403146\n",
      "Loss at step 480 is 0.10784564279019833\n",
      "Loss at step 540 is 0.11562192977095644\n",
      "Loss at step 600 is 0.11460419694582621\n",
      "Epoch  3 . Learning rate  [0.1]\n",
      "Loss at step 60 is 0.08645307465145985\n",
      "Loss at step 120 is 0.08961861729621887\n",
      "Loss at step 180 is 0.0884548170802494\n",
      "Loss at step 240 is 0.0873181341526409\n",
      "Loss at step 300 is 0.09906469595928986\n",
      "Loss at step 360 is 0.08378113806247711\n",
      "Loss at step 420 is 0.08328074871872862\n",
      "Loss at step 480 is 0.08231916377941767\n",
      "Loss at step 540 is 0.07859918453420202\n",
      "Loss at step 600 is 0.08709133708228668\n",
      "Epoch  4 . Learning rate  [0.1]\n",
      "Loss at step 60 is 0.06351912350704272\n",
      "Loss at step 120 is 0.06966877191637953\n",
      "Loss at step 180 is 0.065467812679708\n",
      "Loss at step 240 is 0.0595928568392992\n",
      "Loss at step 300 is 0.06329760841714839\n",
      "Loss at step 360 is 0.06660471462334196\n",
      "Loss at step 420 is 0.06749407801156243\n",
      "Loss at step 480 is 0.0693971062079072\n",
      "Loss at step 540 is 0.06650439615671834\n",
      "Loss at step 600 is 0.06346960285057625\n",
      "Epoch  5 . Learning rate  [0.1]\n",
      "Loss at step 60 is 0.0478680898124973\n",
      "Loss at step 120 is 0.0516019859816879\n",
      "Loss at step 180 is 0.05595626261395713\n",
      "Loss at step 240 is 0.05298143364489079\n",
      "Loss at step 300 is 0.0487876847696801\n",
      "Loss at step 360 is 0.05028220564126969\n",
      "Loss at step 420 is 0.04928795006126165\n",
      "Loss at step 480 is 0.050569475069642066\n",
      "Loss at step 540 is 0.05254084633973737\n",
      "Loss at step 600 is 0.04884139923378825\n",
      "Epoch  6 . Learning rate  [0.1]\n",
      "Loss at step 60 is 0.03152787759900093\n",
      "Loss at step 120 is 0.04552934692862133\n",
      "Loss at step 180 is 0.04073725991571943\n",
      "Loss at step 240 is 0.041330236840682724\n",
      "Loss at step 300 is 0.038458272768184545\n",
      "Loss at step 360 is 0.0366331049396346\n",
      "Loss at step 420 is 0.0440134313578407\n",
      "Loss at step 480 is 0.040190956881269814\n",
      "Loss at step 540 is 0.04266338039500018\n",
      "Loss at step 600 is 0.045673396849694355\n",
      "Epoch  7 . Learning rate  [0.1]\n",
      "Loss at step 60 is 0.035779473410608865\n",
      "Loss at step 120 is 0.03532342598773539\n",
      "Loss at step 180 is 0.032760503919174275\n",
      "Loss at step 240 is 0.02992461233710249\n",
      "Loss at step 300 is 0.03279400315756599\n",
      "Loss at step 360 is 0.03229439821249495\n",
      "Loss at step 420 is 0.02883092740861078\n",
      "Loss at step 480 is 0.03990406511972348\n",
      "Loss at step 540 is 0.034269979557332894\n",
      "Loss at step 600 is 0.03366693204734474\n",
      "Epoch  8 . Learning rate  [0.1]\n",
      "Loss at step 60 is 0.0251914320125555\n",
      "Loss at step 120 is 0.025046460120938717\n",
      "Loss at step 180 is 0.02536463289676855\n",
      "Loss at step 240 is 0.02841650101666649\n",
      "Loss at step 300 is 0.025347947189584375\n",
      "Loss at step 360 is 0.0307523344643414\n",
      "Loss at step 420 is 0.028033611302574476\n",
      "Loss at step 480 is 0.026741493896891674\n",
      "Loss at step 540 is 0.029594815491388243\n",
      "Loss at step 600 is 0.02816917543920378\n",
      "Epoch  9 . Learning rate  [0.1]\n",
      "Loss at step 60 is 0.018991382652893664\n",
      "Loss at step 120 is 0.022128003587325414\n",
      "Loss at step 180 is 0.023275738954544066\n",
      "Loss at step 240 is 0.022655393447106084\n",
      "Loss at step 300 is 0.02031943140706668\n",
      "Loss at step 360 is 0.022992710497540734\n",
      "Loss at step 420 is 0.02275361733045429\n",
      "Loss at step 480 is 0.021067531313747168\n",
      "Loss at step 540 is 0.02694037021137774\n",
      "Loss at step 600 is 0.024199675217581294\n",
      "Epoch  10 . Learning rate  [0.1]\n",
      "Loss at step 60 is 0.018782501225359738\n",
      "Loss at step 120 is 0.016301378809536495\n",
      "Loss at step 180 is 0.018578110348122814\n",
      "Loss at step 240 is 0.015575257048476487\n",
      "Loss at step 300 is 0.015875140988888838\n",
      "Loss at step 360 is 0.01938408794812858\n",
      "Loss at step 420 is 0.02131318262933443\n",
      "Loss at step 480 is 0.020818503713235258\n",
      "Loss at step 540 is 0.020764939727572103\n",
      "Loss at step 600 is 0.019496450115305684\n",
      "Epoch  11 . Learning rate  [0.1]\n",
      "Loss at step 60 is 0.013252398457067709\n",
      "Loss at step 120 is 0.014413605739052097\n",
      "Loss at step 180 is 0.015096345532219857\n",
      "Loss at step 240 is 0.016717157404248912\n",
      "Loss at step 300 is 0.01782627486390993\n",
      "Loss at step 360 is 0.013518184233301629\n",
      "Loss at step 420 is 0.017111693656382463\n",
      "Loss at step 480 is 0.014775647028970221\n",
      "Loss at step 540 is 0.015008534215545903\n",
      "Loss at step 600 is 0.017830568187249204\n",
      "Epoch  12 . Learning rate  [0.1]\n",
      "Loss at step 60 is 0.012788280553650111\n",
      "Loss at step 120 is 0.014268984513667723\n",
      "Loss at step 180 is 0.010092300114532311\n",
      "Loss at step 240 is 0.0123756522545591\n",
      "Loss at step 300 is 0.011192699254024774\n",
      "Loss at step 360 is 0.01404401072456191\n",
      "Loss at step 420 is 0.012021649464926062\n",
      "Loss at step 480 is 0.01534270791647335\n",
      "Loss at step 540 is 0.014395824198921521\n",
      "Loss at step 600 is 0.013023266568779945\n",
      "Epoch  13 . Learning rate  [0.1]\n",
      "Loss at step 60 is 0.010224583651870489\n",
      "Loss at step 120 is 0.009554775365783523\n",
      "Loss at step 180 is 0.010255963072025528\n",
      "Loss at step 240 is 0.010531435590625431\n",
      "Loss at step 300 is 0.010000243198980267\n",
      "Loss at step 360 is 0.01210488670427973\n",
      "Loss at step 420 is 0.012413970058939109\n",
      "Loss at step 480 is 0.011827316282627483\n",
      "Loss at step 540 is 0.011341369101622452\n",
      "Loss at step 600 is 0.011816251437024524\n",
      "Epoch  14 . Learning rate  [0.1]\n",
      "Loss at step 60 is 0.008377572257692615\n",
      "Loss at step 120 is 0.00830285432554471\n",
      "Loss at step 180 is 0.007957400164256494\n",
      "Loss at step 240 is 0.008629160417088617\n",
      "Loss at step 300 is 0.008397409975683938\n",
      "Loss at step 360 is 0.009975797543302179\n",
      "Loss at step 420 is 0.010580163123086095\n",
      "Loss at step 480 is 0.009681556416520227\n",
      "Loss at step 540 is 0.008990898414049297\n",
      "Loss at step 600 is 0.011419650064393256\n",
      "Epoch  15 . Learning rate  [0.1]\n",
      "Loss at step 60 is 0.007968421940070887\n",
      "Loss at step 120 is 0.007310084596974775\n",
      "Loss at step 180 is 0.008966114344851424\n",
      "Loss at step 240 is 0.007431105516540508\n",
      "Loss at step 300 is 0.007854372561754037\n",
      "Loss at step 360 is 0.007001225949109843\n",
      "Loss at step 420 is 0.009506658899287384\n",
      "Loss at step 480 is 0.009185991424601525\n",
      "Loss at step 540 is 0.008304601570125669\n",
      "Loss at step 600 is 0.00808431402547285\n"
     ]
    }
   ],
   "source": [
    "model = FCN()\n",
    "optimizer = optim.SGD(model.parameters(), lr=1e-1) \n",
    "# ===> Implement training\n",
    "n_epoch = 15\n",
    "scheduler = optim.lr_scheduler.StepLR(optimizer, step_size=5, gamma=0.8)\n",
    "\n",
    "# ===> Train + test step with optional StepLR call\n",
    "for epoch in range(1, n_epoch + 1):\n",
    "    print('Epoch ', epoch, '. Learning rate ', scheduler.get_last_lr())\n",
    "    train(model, train_loader, optimizer, epoch)\n",
    "    av_test_loss = test(model, test_loader, print_par = False)\n",
    "    scheduler.step()\n",
    "#     break"
   ]
  },
  {
   "cell_type": "markdown",
   "metadata": {},
   "source": [
    "Here we save this model for later connectivity experiments"
   ]
  },
  {
   "cell_type": "code",
   "execution_count": 44,
   "metadata": {},
   "outputs": [],
   "source": [
    "model_1 = deepcopy(model)"
   ]
  },
  {
   "cell_type": "markdown",
   "metadata": {},
   "source": [
    "**Task 2:** Train the second model for path construction."
   ]
  },
  {
   "cell_type": "code",
   "execution_count": 52,
   "metadata": {},
   "outputs": [
    {
     "name": "stdout",
     "output_type": "stream",
     "text": [
      "Epoch  1 . Learning rate  [0.1]\n",
      "Loss at step 60 is 0.7087538247307141\n",
      "Loss at step 120 is 0.36207369367281594\n",
      "Loss at step 180 is 0.29521420150995253\n",
      "Loss at step 240 is 0.2692855400343736\n",
      "Loss at step 300 is 0.24753297629455726\n",
      "Loss at step 360 is 0.21809135004878044\n",
      "Loss at step 420 is 0.210921265433232\n",
      "Loss at step 480 is 0.20057628552118936\n",
      "Loss at step 540 is 0.1840683575719595\n",
      "Loss at step 600 is 0.16390062825133403\n",
      "Average loss on the test data:  0.00015469815768301488\n",
      "Average accuracy on the test data: 95.52%\n",
      "Epoch  2 . Learning rate  [0.1]\n",
      "Loss at step 60 is 0.14505403159807126\n",
      "Loss at step 120 is 0.13648819290101527\n",
      "Loss at step 180 is 0.13850642281274\n",
      "Loss at step 240 is 0.131428709688286\n",
      "Loss at step 300 is 0.1369518888493379\n",
      "Loss at step 360 is 0.12489037066698075\n",
      "Loss at step 420 is 0.11800014947851499\n",
      "Loss at step 480 is 0.11606702785938978\n",
      "Loss at step 540 is 0.10987854776903987\n",
      "Loss at step 600 is 0.10437291450798511\n",
      "Average loss on the test data:  0.00010389374084770679\n",
      "Average accuracy on the test data: 96.96%\n",
      "Epoch  3 . Learning rate  [0.1]\n",
      "Loss at step 60 is 0.09909402647366126\n",
      "Loss at step 120 is 0.09928926303982735\n",
      "Loss at step 180 is 0.08280675895512105\n",
      "Loss at step 240 is 0.09386422305057446\n",
      "Loss at step 300 is 0.08911127367367347\n",
      "Loss at step 360 is 0.07811971080179016\n",
      "Loss at step 420 is 0.08286114316433668\n",
      "Loss at step 480 is 0.0818801086395979\n",
      "Loss at step 540 is 0.08408029197404782\n",
      "Loss at step 600 is 0.07106234260524312\n",
      "Average loss on the test data:  8.290317971259355e-05\n",
      "Average accuracy on the test data: 97.52%\n",
      "Epoch  4 . Learning rate  [0.1]\n",
      "Loss at step 60 is 0.06664837024485072\n",
      "Loss at step 120 is 0.05990723731617133\n",
      "Loss at step 180 is 0.07092744279652834\n",
      "Loss at step 240 is 0.06452810519064466\n",
      "Loss at step 300 is 0.06533371458450953\n",
      "Loss at step 360 is 0.06260363338515162\n",
      "Loss at step 420 is 0.07469077991942565\n",
      "Loss at step 480 is 0.06197158150995771\n",
      "Loss at step 540 is 0.059781914545844\n",
      "Loss at step 600 is 0.06611167440811792\n",
      "Average loss on the test data:  7.389386482536793e-05\n",
      "Average accuracy on the test data: 97.78%\n",
      "Epoch  5 . Learning rate  [0.1]\n",
      "Loss at step 60 is 0.05198679892346263\n",
      "Loss at step 120 is 0.04799971460985641\n",
      "Loss at step 180 is 0.05487212655134499\n",
      "Loss at step 240 is 0.043319015422215064\n",
      "Loss at step 300 is 0.05615875832736492\n",
      "Loss at step 360 is 0.05673082723903159\n",
      "Loss at step 420 is 0.04836985409880678\n",
      "Loss at step 480 is 0.05121615114621818\n",
      "Loss at step 540 is 0.05071497614650677\n",
      "Loss at step 600 is 0.05012690584796171\n",
      "Average loss on the test data:  6.955966167151928e-05\n",
      "Average accuracy on the test data: 97.89%\n",
      "Epoch  6 . Learning rate  [0.08000000000000002]\n",
      "Loss at step 60 is 0.03696608869358897\n",
      "Loss at step 120 is 0.03081877822987735\n",
      "Loss at step 180 is 0.04297153010653953\n",
      "Loss at step 240 is 0.03644796133351823\n",
      "Loss at step 300 is 0.04056221073648582\n",
      "Loss at step 360 is 0.04548561186529696\n",
      "Loss at step 420 is 0.0371413041682293\n",
      "Loss at step 480 is 0.04336404347947488\n",
      "Loss at step 540 is 0.04475644343377402\n",
      "Loss at step 600 is 0.04052590769715607\n",
      "Average loss on the test data:  6.375846974551677e-05\n",
      "Average accuracy on the test data: 97.94%\n",
      "Epoch  7 . Learning rate  [0.08000000000000002]\n",
      "Loss at step 60 is 0.03115378920920193\n",
      "Loss at step 120 is 0.028339202088924747\n",
      "Loss at step 180 is 0.036983859810667735\n",
      "Loss at step 240 is 0.03533125232594709\n",
      "Loss at step 300 is 0.0348516987481465\n",
      "Loss at step 360 is 0.03526270045743634\n",
      "Loss at step 420 is 0.03458908606941501\n",
      "Loss at step 480 is 0.03062169187081357\n",
      "Loss at step 540 is 0.037478419059577085\n",
      "Loss at step 600 is 0.02984004852672418\n",
      "Average loss on the test data:  6.382485367357731e-05\n",
      "Average accuracy on the test data: 98.07%\n",
      "Epoch  8 . Learning rate  [0.08000000000000002]\n",
      "Loss at step 60 is 0.02915842067450285\n",
      "Loss at step 120 is 0.028859997432058058\n",
      "Loss at step 180 is 0.028785613598302007\n",
      "Loss at step 240 is 0.030251841999900837\n",
      "Loss at step 300 is 0.027197387263489265\n",
      "Loss at step 360 is 0.027555541911472876\n",
      "Loss at step 420 is 0.026965626305900513\n",
      "Loss at step 480 is 0.029073427198454738\n",
      "Loss at step 540 is 0.028207329233797887\n",
      "Loss at step 600 is 0.026780755437600116\n",
      "Average loss on the test data:  5.99360104650259e-05\n",
      "Average accuracy on the test data: 98.07%\n",
      "Epoch  9 . Learning rate  [0.08000000000000002]\n",
      "Loss at step 60 is 0.019980634787740807\n",
      "Loss at step 120 is 0.026794287438193957\n",
      "Loss at step 180 is 0.022700800816528498\n",
      "Loss at step 240 is 0.02242206052566568\n",
      "Loss at step 300 is 0.025923262373544274\n",
      "Loss at step 360 is 0.02497265060277035\n",
      "Loss at step 420 is 0.026343304951054355\n",
      "Loss at step 480 is 0.025584757421165706\n",
      "Loss at step 540 is 0.026694418381278714\n",
      "Loss at step 600 is 0.021623173418144386\n",
      "Average loss on the test data:  5.8407986350357535e-05\n",
      "Average accuracy on the test data: 98.11%\n",
      "Epoch  10 . Learning rate  [0.08000000000000002]\n",
      "Loss at step 60 is 0.015630600275471807\n",
      "Loss at step 120 is 0.020932889675411084\n",
      "Loss at step 180 is 0.019598558467502396\n",
      "Loss at step 240 is 0.021682787934939066\n",
      "Loss at step 300 is 0.01934274413312475\n",
      "Loss at step 360 is 0.02159733509955307\n",
      "Loss at step 420 is 0.023922688296685615\n",
      "Loss at step 480 is 0.01979171809895585\n",
      "Loss at step 540 is 0.022627029404975473\n",
      "Loss at step 600 is 0.02222964952234179\n",
      "Average loss on the test data:  5.928667113184929e-05\n",
      "Average accuracy on the test data: 98.14%\n",
      "Epoch  11 . Learning rate  [0.06400000000000002]\n",
      "Loss at step 60 is 0.018515569119093318\n",
      "Loss at step 120 is 0.017990500231583915\n",
      "Loss at step 180 is 0.017655364315335948\n",
      "Loss at step 240 is 0.01613052178096647\n",
      "Loss at step 300 is 0.01625321297130237\n",
      "Loss at step 360 is 0.0161973348314253\n",
      "Loss at step 420 is 0.014868206961546093\n",
      "Loss at step 480 is 0.018535390162530044\n",
      "Loss at step 540 is 0.01754833918530494\n",
      "Loss at step 600 is 0.017997792122575143\n",
      "Average loss on the test data:  5.671210046857595e-05\n",
      "Average accuracy on the test data: 98.20%\n",
      "Epoch  12 . Learning rate  [0.06400000000000002]\n",
      "Loss at step 60 is 0.014160051456807802\n",
      "Loss at step 120 is 0.013889066549018026\n",
      "Loss at step 180 is 0.01354104537749663\n",
      "Loss at step 240 is 0.013908706558868288\n",
      "Loss at step 300 is 0.016919561894610524\n",
      "Loss at step 360 is 0.018979878160947313\n",
      "Loss at step 420 is 0.015447234633999567\n",
      "Loss at step 480 is 0.013172633938180904\n",
      "Loss at step 540 is 0.016960482369177042\n",
      "Loss at step 600 is 0.0148496319539845\n",
      "Average loss on the test data:  5.679306508973241e-05\n",
      "Average accuracy on the test data: 98.33%\n",
      "Epoch  13 . Learning rate  [0.06400000000000002]\n",
      "Loss at step 60 is 0.013578837372673054\n",
      "Loss at step 120 is 0.013104328326880932\n",
      "Loss at step 180 is 0.015514073714924356\n",
      "Loss at step 240 is 0.010203885232719282\n",
      "Loss at step 300 is 0.012049496538626652\n",
      "Loss at step 360 is 0.015788123263822246\n",
      "Loss at step 420 is 0.014587681325307737\n",
      "Loss at step 480 is 0.013946071775474895\n",
      "Loss at step 540 is 0.012445673843224843\n",
      "Loss at step 600 is 0.016746778467980523\n",
      "Average loss on the test data:  5.530273327603936e-05\n",
      "Average accuracy on the test data: 98.22%\n",
      "Epoch  14 . Learning rate  [0.06400000000000002]\n",
      "Loss at step 60 is 0.012141447747126222\n",
      "Loss at step 120 is 0.010915687528904528\n",
      "Loss at step 180 is 0.012167339539155364\n",
      "Loss at step 240 is 0.010175543476361782\n",
      "Loss at step 300 is 0.012581318787609538\n",
      "Loss at step 360 is 0.012575289614809056\n",
      "Loss at step 420 is 0.013871829659910873\n",
      "Loss at step 480 is 0.014817600794291745\n",
      "Loss at step 540 is 0.010584078973624855\n",
      "Loss at step 600 is 0.012805844323399167\n",
      "Average loss on the test data:  5.646657571196556e-05\n",
      "Average accuracy on the test data: 98.15%\n",
      "Epoch  15 . Learning rate  [0.06400000000000002]\n",
      "Loss at step 60 is 0.011791931232437491\n",
      "Loss at step 120 is 0.011483100359328091\n",
      "Loss at step 180 is 0.009501785839286942\n",
      "Loss at step 240 is 0.011452965366576489\n",
      "Loss at step 300 is 0.010165113105904311\n",
      "Loss at step 360 is 0.012359233483827363\n",
      "Loss at step 420 is 0.01051095996517688\n",
      "Loss at step 480 is 0.011354847900414218\n",
      "Loss at step 540 is 0.010960781380223732\n",
      "Loss at step 600 is 0.01142133284593001\n",
      "Average loss on the test data:  5.596435582265258e-05\n",
      "Average accuracy on the test data: 98.27%\n"
     ]
    }
   ],
   "source": [
    "model = FCN()\n",
    "optimizer = optim.SGD(model.parameters(), lr=1e-1) \n",
    "# ===> Implement training\n",
    "n_epoch = 15\n",
    "scheduler = optim.lr_scheduler.StepLR(optimizer, step_size=5, gamma=0.8)\n",
    "\n",
    "# ===> Train + test step with optional StepLR call\n",
    "for epoch in range(1, n_epoch + 1):\n",
    "    print('Epoch ', epoch, '. Learning rate ', scheduler.get_last_lr())\n",
    "    train(model, train_loader, optimizer, epoch)\n",
    "    av_test_loss = test(model, test_loader, print_par = True)\n",
    "    scheduler.step()\n",
    "#     break"
   ]
  },
  {
   "cell_type": "markdown",
   "metadata": {},
   "source": [
    "Saving resulting model for further usage."
   ]
  },
  {
   "cell_type": "code",
   "execution_count": 47,
   "metadata": {},
   "outputs": [],
   "source": [
    "model_2 = deepcopy(model)"
   ]
  },
  {
   "cell_type": "markdown",
   "metadata": {},
   "source": [
    "## Path construction\n",
    "\n",
    "In this section we will constuct a simple two-segment linear path of low loss between two solutions. The path between network parameters $\\theta_1$ and $\\theta_2$ has the following parameteric form\n",
    "\n",
    "$$\n",
    "\\pi(t) = \n",
    "\\begin{cases} 2((0.5-t)\\theta_1 + t\\theta), \\quad t \\in [0,0.5] \\\\\n",
    "2(t\\theta_2 + (0.5-t)\\theta), \\quad t \\in [0.5,1] \n",
    "\\end{cases}.\n",
    "$$\n",
    "\n",
    "We aim to find $\\theta$ such that the value of risk for any $t \\in [0,1]$ is small, i.e.,\n",
    "\n",
    "$$\n",
    "\\mathbb{E}_{(x,y) \\sim \\mathcal{D}} \\mathcal{L}(f_{\\pi(t)}(x), y) \\leq \\max[ \\mathbb{E}_{(x,y) \\sim \\mathcal{D}} \\mathcal{L}(f_{\\theta_1}(x), y), \\mathbb{E}_{(x,y) \\sim \\mathcal{D}} \\mathcal{L}(f_{\\theta_2}(x), y)] + \\varepsilon,\n",
    "$$\n",
    "\n",
    "does not exceed the value of both end network plus some small value. How we can achieve that? The work around is quite simple:\n",
    "\n",
    "*1)* for each part of training dataset, i.e., `(data, target)` pair from one iteration over `train_loader` sample $t \\sim \\textrm{Uniform[0,1]}$\n",
    "\n",
    "*2)* Compute the loss on this pair for network with parameters $\\pi(t)$\n",
    "\n",
    "*3)* Compute derivatives w.r.t. $\\theta$ to minimize the loss and make a step of optimizer\n",
    "\n",
    "*4)* Repeat above proceedure for several epochs\n",
    "\n",
    "\n",
    "\n",
    "\n",
    "**Technical note:** Due to restrictions of PyTorch we will use `CurveFCN` class below to insert the parameter values from the path in order to allow backpropagation."
   ]
  },
  {
   "cell_type": "code",
   "execution_count": 14,
   "metadata": {},
   "outputs": [],
   "source": [
    "class Linear(nn.Module):\n",
    "    \n",
    "    def __init__(self, weight, bias):\n",
    "        super(Linear, self).__init__()\n",
    "        self.weight = weight\n",
    "        self.bias = bias\n",
    "        \n",
    "    def forward(self, x):\n",
    "        return F.linear(x, self.weight, self.bias)\n",
    "\n",
    "class CurveFCN(nn.Module):\n",
    "    \n",
    "    def __init__(self, weight_1, bias_1, weight_2, bias_2):\n",
    "        super(CurveFCN, self).__init__()\n",
    "        self.fc1 = Linear(weight_1, bias_1)\n",
    "        self.fc2 = Linear(weight_2, bias_2)\n",
    "        self.act = nn.ReLU()\n",
    "        \n",
    "    def forward(self, x):\n",
    "        output = self.act(self.fc1(x))\n",
    "        output = self.fc2(output)\n",
    "        return output"
   ]
  },
  {
   "cell_type": "markdown",
   "metadata": {},
   "source": [
    "**Task 1:** Given $\\theta_1 = \\textrm{start}$, $\\theta_2 = \\textrm{end}$, $\\theta = \\textrm{middle}$ and time step \n",
    "$t$ implement a function below which returns a new point which corresponds to $\\pi(t)$. \n",
    "\n",
    "\n",
    "**Note:** Strictly speaking each $\\pi(t)$ consists of 4 parameters `(weight_1, bias_1)` for weights and bias term of first linear layer and `(weight_2, bias_2)` for parameters of second. In this function we assume that we get a consistent triplet, e.g., weights of first layer. In next task we will call this function on all triplets."
   ]
  },
  {
   "cell_type": "code",
   "execution_count": 15,
   "metadata": {},
   "outputs": [],
   "source": [
    "def get_chain_element(t, start, middle, end):\n",
    "    if 0 <= t <= 0.5:\n",
    "        pi = 2*((0.5-t)*start + t*middle)\n",
    "    elif 0.5 < t <= 1:\n",
    "        pi = 2*(t*end + (0.5-t)*middle)\n",
    "    else: print('error in pi')\n",
    "    return pi"
   ]
  },
  {
   "cell_type": "markdown",
   "metadata": {},
   "source": [
    "Below we emplemented a function which outputs a network with parameters sampled from path."
   ]
  },
  {
   "cell_type": "code",
   "execution_count": 16,
   "metadata": {},
   "outputs": [],
   "source": [
    "def get_net(t, model_1, model_mid, model_2):\n",
    "\n",
    "    params_start = list(model_1.parameters())\n",
    "    params_end = list(model_2.parameters())\n",
    "    params_middle = model_mid\n",
    "    \n",
    "    params = []\n",
    "    for idx in range(len(params_start)):\n",
    "        start, middle, end = params_start[idx], params_middle[idx], params_end[idx]\n",
    "        new_param = get_chain_element(t, start, middle, end)\n",
    "        params.append(new_param)\n",
    "    new_model = CurveFCN(*params)\n",
    "        \n",
    "    return new_model"
   ]
  },
  {
   "cell_type": "markdown",
   "metadata": {},
   "source": [
    "**Task 2:** Implement a training algorithm for $\\theta$. \n",
    "\n",
    "For a certain amount of epochs go through the dataset and on each subset of training dataset sample a timestemp $t$. \n",
    "\n",
    "After use `get_net(t, model_1, model_mid, model_2)` to obtain a network model with parameters $\\pi(t)$. For which compute a loss on current subset and gradient for optimization step.\n",
    "\n",
    "**Note:** you are free to tune optimizer parameters and number of epochs."
   ]
  },
  {
   "cell_type": "code",
   "execution_count": 17,
   "metadata": {
    "scrolled": true
   },
   "outputs": [
    {
     "name": "stdout",
     "output_type": "stream",
     "text": [
      "torch.Size([10, 500])\n"
     ]
    }
   ],
   "source": [
    "print(list(model_1.parameters())[2].shape)"
   ]
  },
  {
   "cell_type": "code",
   "execution_count": 18,
   "metadata": {},
   "outputs": [
    {
     "name": "stdout",
     "output_type": "stream",
     "text": [
      "Average loss on the test data:  7.706583198159933e-05\n",
      "Average accuracy on the test data: 97.59%\n",
      "Average loss on the test data:  0.00012271766448393464\n",
      "Average accuracy on the test data: 98.19%\n"
     ]
    }
   ],
   "source": [
    "model_mid = list(FCN().parameters())\n",
    "\n",
    "optimizer = optim.Adam(model_mid, lr=0.0001, weight_decay=1e-7)\n",
    "\n",
    "for epoch in range(1, 2 + 1): #54\n",
    "    \n",
    "    for batch_idx, (data, target) in enumerate(train_loader):\n",
    "        t = torch.rand(1)[0] # sample timestemp\n",
    "        # input\n",
    "        data = data.view(-1,28 * 28) # reshape 2d image to vector of size 28x28\n",
    "\n",
    "        # get model and make an optimization step\n",
    "        new_model = get_net(t, model_1, model_mid, model_2)\n",
    "        output = new_model(data)\n",
    "        #loss function\n",
    "        L = F.cross_entropy(output, target)\n",
    "        #back propagation \n",
    "        L.backward()\n",
    "        optimizer.step() # make one optimization step\n",
    "        optimizer.zero_grad()\n",
    "        \n",
    "    test_loss = test(new_model, test_loader)"
   ]
  },
  {
   "cell_type": "markdown",
   "metadata": {},
   "source": [
    "**Task 3:** Implement a function which computes test loss for 50 timesteps in $[0,1]$ interval and returns resulting array of losses."
   ]
  },
  {
   "cell_type": "code",
   "execution_count": 33,
   "metadata": {},
   "outputs": [],
   "source": [
    "def get_path(model_1, model_mid, model_2):\n",
    "    timesteps = np.linspace(0, 1, 50)\n",
    "    \n",
    "    path = np.empty(len(timesteps))\n",
    "    # iterate over test data, output loss and test\n",
    "    for i,t in enumerate(timesteps):\n",
    "        print(i, t)\n",
    "        new_model = get_net(t, model_1, model_mid, model_2)\n",
    "        path[i] = test(new_model, test_loader)\n",
    "    return path"
   ]
  },
  {
   "cell_type": "code",
   "execution_count": 34,
   "metadata": {},
   "outputs": [
    {
     "name": "stdout",
     "output_type": "stream",
     "text": [
      "0 0.0\n",
      "Average loss on the test data:  5.8176336577162144e-05\n",
      "Average accuracy on the test data: 98.21%\n",
      "1 0.02040816326530612\n",
      "Average loss on the test data:  5.802972042001784e-05\n",
      "Average accuracy on the test data: 98.21%\n",
      "2 0.04081632653061224\n",
      "Average loss on the test data:  5.8335139509290455e-05\n",
      "Average accuracy on the test data: 98.19%\n",
      "3 0.061224489795918366\n",
      "Average loss on the test data:  5.9150540363043544e-05\n",
      "Average accuracy on the test data: 98.14%\n",
      "4 0.08163265306122448\n",
      "Average loss on the test data:  6.051256321370602e-05\n",
      "Average accuracy on the test data: 98.09%\n",
      "5 0.1020408163265306\n",
      "Average loss on the test data:  6.253802143037319e-05\n",
      "Average accuracy on the test data: 98.03%\n",
      "6 0.12244897959183673\n",
      "Average loss on the test data:  6.535607734695077e-05\n",
      "Average accuracy on the test data: 97.97%\n",
      "7 0.14285714285714285\n",
      "Average loss on the test data:  6.910741766914725e-05\n",
      "Average accuracy on the test data: 97.87%\n",
      "8 0.16326530612244897\n",
      "Average loss on the test data:  7.39230290055275e-05\n",
      "Average accuracy on the test data: 97.80%\n",
      "9 0.18367346938775508\n",
      "Average loss on the test data:  7.992603238672018e-05\n",
      "Average accuracy on the test data: 97.63%\n",
      "10 0.2040816326530612\n",
      "Average loss on the test data:  8.725406378507614e-05\n",
      "Average accuracy on the test data: 97.34%\n",
      "11 0.22448979591836732\n",
      "Average loss on the test data:  9.601951986551285e-05\n",
      "Average accuracy on the test data: 97.19%\n",
      "12 0.24489795918367346\n",
      "Average loss on the test data:  0.00010633747056126595\n",
      "Average accuracy on the test data: 96.99%\n",
      "13 0.26530612244897955\n",
      "Average loss on the test data:  0.0001183618526905775\n",
      "Average accuracy on the test data: 96.70%\n",
      "14 0.2857142857142857\n",
      "Average loss on the test data:  0.00013213769197463989\n",
      "Average accuracy on the test data: 96.38%\n",
      "15 0.3061224489795918\n",
      "Average loss on the test data:  0.00014767409786581992\n",
      "Average accuracy on the test data: 96.02%\n",
      "16 0.32653061224489793\n",
      "Average loss on the test data:  0.00016486890241503715\n",
      "Average accuracy on the test data: 95.59%\n",
      "17 0.3469387755102041\n",
      "Average loss on the test data:  0.00018352464362978934\n",
      "Average accuracy on the test data: 95.07%\n",
      "18 0.36734693877551017\n",
      "Average loss on the test data:  0.00020349983870983124\n",
      "Average accuracy on the test data: 94.55%\n",
      "19 0.3877551020408163\n",
      "Average loss on the test data:  0.00022456685528159142\n",
      "Average accuracy on the test data: 94.02%\n",
      "20 0.4081632653061224\n",
      "Average loss on the test data:  0.00024647183790802953\n",
      "Average accuracy on the test data: 93.43%\n",
      "21 0.42857142857142855\n",
      "Average loss on the test data:  0.00026901410594582555\n",
      "Average accuracy on the test data: 92.94%\n",
      "22 0.44897959183673464\n",
      "Average loss on the test data:  0.00029220332205295564\n",
      "Average accuracy on the test data: 92.28%\n",
      "23 0.4693877551020408\n",
      "Average loss on the test data:  0.00031625218391418455\n",
      "Average accuracy on the test data: 91.65%\n",
      "24 0.4897959183673469\n",
      "Average loss on the test data:  0.0003415918216109276\n",
      "Average accuracy on the test data: 91.07%\n",
      "25 0.5102040816326531\n",
      "Average loss on the test data:  5.705710491165519e-05\n",
      "Average accuracy on the test data: 98.29%\n",
      "26 0.5306122448979591\n",
      "Average loss on the test data:  5.836699325591326e-05\n",
      "Average accuracy on the test data: 98.31%\n",
      "27 0.5510204081632653\n",
      "Average loss on the test data:  6.011074613779783e-05\n",
      "Average accuracy on the test data: 98.31%\n",
      "28 0.5714285714285714\n",
      "Average loss on the test data:  6.224347054958344e-05\n",
      "Average accuracy on the test data: 98.33%\n",
      "29 0.5918367346938775\n",
      "Average loss on the test data:  6.47115744650364e-05\n",
      "Average accuracy on the test data: 98.30%\n",
      "30 0.6122448979591836\n",
      "Average loss on the test data:  6.749870097264647e-05\n",
      "Average accuracy on the test data: 98.28%\n",
      "31 0.6326530612244897\n",
      "Average loss on the test data:  7.055226787924767e-05\n",
      "Average accuracy on the test data: 98.28%\n",
      "32 0.6530612244897959\n",
      "Average loss on the test data:  7.382686361670494e-05\n",
      "Average accuracy on the test data: 98.27%\n",
      "33 0.673469387755102\n",
      "Average loss on the test data:  7.735870452597738e-05\n",
      "Average accuracy on the test data: 98.27%\n",
      "34 0.6938775510204082\n",
      "Average loss on the test data:  8.111511301249266e-05\n",
      "Average accuracy on the test data: 98.28%\n",
      "35 0.7142857142857142\n",
      "Average loss on the test data:  8.509423583745957e-05\n",
      "Average accuracy on the test data: 98.24%\n",
      "36 0.7346938775510203\n",
      "Average loss on the test data:  8.92815925180912e-05\n",
      "Average accuracy on the test data: 98.25%\n",
      "37 0.7551020408163265\n",
      "Average loss on the test data:  9.367173481732606e-05\n",
      "Average accuracy on the test data: 98.20%\n",
      "38 0.7755102040816326\n",
      "Average loss on the test data:  9.824112858623267e-05\n",
      "Average accuracy on the test data: 98.19%\n",
      "39 0.7959183673469387\n",
      "Average loss on the test data:  0.00010302951894700527\n",
      "Average accuracy on the test data: 98.20%\n",
      "40 0.8163265306122448\n",
      "Average loss on the test data:  0.00010802953252568841\n",
      "Average accuracy on the test data: 98.18%\n",
      "41 0.836734693877551\n",
      "Average loss on the test data:  0.00011322618070989848\n",
      "Average accuracy on the test data: 98.17%\n",
      "42 0.8571428571428571\n",
      "Average loss on the test data:  0.00011861601267009974\n",
      "Average accuracy on the test data: 98.20%\n",
      "43 0.8775510204081632\n",
      "Average loss on the test data:  0.00012419941741973161\n",
      "Average accuracy on the test data: 98.20%\n",
      "44 0.8979591836734693\n",
      "Average loss on the test data:  0.0001299760663881898\n",
      "Average accuracy on the test data: 98.21%\n",
      "45 0.9183673469387754\n",
      "Average loss on the test data:  0.00013594135669991374\n",
      "Average accuracy on the test data: 98.17%\n",
      "46 0.9387755102040816\n",
      "Average loss on the test data:  0.0001420929567888379\n",
      "Average accuracy on the test data: 98.17%\n",
      "47 0.9591836734693877\n",
      "Average loss on the test data:  0.00014842754397541286\n",
      "Average accuracy on the test data: 98.16%\n",
      "48 0.9795918367346939\n",
      "Average loss on the test data:  0.00015495452042669057\n",
      "Average accuracy on the test data: 98.16%\n",
      "49 1.0\n",
      "Average loss on the test data:  0.00016167444400489331\n",
      "Average accuracy on the test data: 98.14%\n"
     ]
    }
   ],
   "source": [
    "res = get_path(model_1, model_mid, model_2)"
   ]
  },
  {
   "cell_type": "code",
   "execution_count": 49,
   "metadata": {},
   "outputs": [
    {
     "data": {
      "text/plain": [
       "array([5.81763366e-05, 5.80297204e-05, 5.83351395e-05, 5.91505404e-05,\n",
       "       6.05125632e-05, 6.25380214e-05, 6.53560773e-05, 6.91074177e-05,\n",
       "       7.39230290e-05, 7.99260324e-05, 8.72540638e-05, 9.60195199e-05,\n",
       "       1.06337471e-04, 1.18361853e-04, 1.32137692e-04, 1.47674098e-04,\n",
       "       1.64868902e-04, 1.83524644e-04, 2.03499839e-04, 2.24566855e-04,\n",
       "       2.46471838e-04, 2.69014106e-04, 2.92203322e-04, 3.16252184e-04,\n",
       "       3.41591822e-04, 5.70571049e-05, 5.83669933e-05, 6.01107461e-05,\n",
       "       6.22434705e-05, 6.47115745e-05, 6.74987010e-05, 7.05522679e-05,\n",
       "       7.38268636e-05, 7.73587045e-05, 8.11151130e-05, 8.50942358e-05,\n",
       "       8.92815925e-05, 9.36717348e-05, 9.82411286e-05, 1.03029519e-04,\n",
       "       1.08029533e-04, 1.13226181e-04, 1.18616013e-04, 1.24199417e-04,\n",
       "       1.29976066e-04, 1.35941357e-04, 1.42092957e-04, 1.48427544e-04,\n",
       "       1.54954520e-04, 1.61674444e-04])"
      ]
     },
     "execution_count": 49,
     "metadata": {},
     "output_type": "execute_result"
    }
   ],
   "source": [
    "res"
   ]
  },
  {
   "cell_type": "markdown",
   "metadata": {},
   "source": [
    "**Task 4:** To compare our learn path we choose a simple linear interpolation between two points, namely\n",
    "\n",
    "$$\n",
    "\\pi_{\\textrm{linear}}(t) = (1-t)\\theta_1 + t \\theta_2,\\quad t \\in [0,1]\n",
    "$$\n",
    "\n",
    "Implement it in function `get_linear_element` in similar spirit to `get_chain_element`."
   ]
  },
  {
   "cell_type": "code",
   "execution_count": 24,
   "metadata": {},
   "outputs": [],
   "source": [
    "def get_linear_element(t, start, end):\n",
    "    return (1-t)*start + t*end"
   ]
  },
  {
   "cell_type": "code",
   "execution_count": 25,
   "metadata": {},
   "outputs": [],
   "source": [
    "def get_linear_net(t, model_1, model_2):\n",
    "\n",
    "    params_start = list(model_1.parameters())\n",
    "    params_end = list(model_2.parameters())\n",
    "    \n",
    "    params = []\n",
    "    for idx in range(len(params_start)):\n",
    "        start, end = params_start[idx], params_end[idx]\n",
    "        new_param = get_linear_element(t, start, end)\n",
    "        params.append(new_param)\n",
    "    new_model = CurveFCN(*params)\n",
    "        \n",
    "    return new_model"
   ]
  },
  {
   "cell_type": "markdown",
   "metadata": {},
   "source": [
    "**Task 5:** Similar to **task 3** implement a function which returns a loss values for 50 timesteps which partition $[0,1]$ interval on equal pieces but for **linear interpolation** (call `get_linear_net`)"
   ]
  },
  {
   "cell_type": "code",
   "execution_count": 28,
   "metadata": {},
   "outputs": [],
   "source": [
    "def get_path_linear(model_1, model_mid, model_2):  \n",
    "    # => implement\n",
    "    timesteps = np.linspace(0, 1, 50)\n",
    "    \n",
    "    path = np.empty(len(timesteps))\n",
    "    # iterate over test data, output loss and test\n",
    "    for i,t in enumerate(timesteps):\n",
    "        new_model = get_linear_net(t, model_1, model_2)\n",
    "        path[i] = test(new_model, test_loader)\n",
    "    return path"
   ]
  },
  {
   "cell_type": "code",
   "execution_count": 29,
   "metadata": {},
   "outputs": [
    {
     "name": "stdout",
     "output_type": "stream",
     "text": [
      "Average loss on the test data:  5.8176336577162144e-05\n",
      "Average accuracy on the test data: 98.21%\n",
      "Average loss on the test data:  5.773191428743303e-05\n",
      "Average accuracy on the test data: 98.21%\n",
      "Average loss on the test data:  5.75730268843472e-05\n",
      "Average accuracy on the test data: 98.20%\n",
      "Average loss on the test data:  5.775975687429309e-05\n",
      "Average accuracy on the test data: 98.10%\n",
      "Average loss on the test data:  5.834875134751201e-05\n",
      "Average accuracy on the test data: 98.04%\n",
      "Average loss on the test data:  5.937627535313368e-05\n",
      "Average accuracy on the test data: 97.99%\n",
      "Average loss on the test data:  6.0904159024357794e-05\n",
      "Average accuracy on the test data: 97.95%\n",
      "Average loss on the test data:  6.297813272103667e-05\n",
      "Average accuracy on the test data: 97.90%\n",
      "Average loss on the test data:  6.566813811659812e-05\n",
      "Average accuracy on the test data: 97.88%\n",
      "Average loss on the test data:  6.907070316374301e-05\n",
      "Average accuracy on the test data: 97.84%\n",
      "Average loss on the test data:  7.329278159886598e-05\n",
      "Average accuracy on the test data: 97.79%\n",
      "Average loss on the test data:  7.845211811363697e-05\n",
      "Average accuracy on the test data: 97.69%\n",
      "Average loss on the test data:  8.466371763497591e-05\n",
      "Average accuracy on the test data: 97.59%\n",
      "Average loss on the test data:  9.19818252325058e-05\n",
      "Average accuracy on the test data: 97.48%\n",
      "Average loss on the test data:  0.00010048619024455547\n",
      "Average accuracy on the test data: 97.32%\n",
      "Average loss on the test data:  0.00011014912985265255\n",
      "Average accuracy on the test data: 97.18%\n",
      "Average loss on the test data:  0.00012080198302865029\n",
      "Average accuracy on the test data: 97.02%\n",
      "Average loss on the test data:  0.00013219261392951012\n",
      "Average accuracy on the test data: 96.88%\n",
      "Average loss on the test data:  0.00014393682032823562\n",
      "Average accuracy on the test data: 96.75%\n",
      "Average loss on the test data:  0.0001555831976234913\n",
      "Average accuracy on the test data: 96.52%\n",
      "Average loss on the test data:  0.0001666217967867851\n",
      "Average accuracy on the test data: 96.29%\n",
      "Average loss on the test data:  0.00017637340426445008\n",
      "Average accuracy on the test data: 96.14%\n",
      "Average loss on the test data:  0.00018424628898501395\n",
      "Average accuracy on the test data: 95.98%\n",
      "Average loss on the test data:  0.00018971574306488037\n",
      "Average accuracy on the test data: 95.91%\n",
      "Average loss on the test data:  0.0001924318864941597\n",
      "Average accuracy on the test data: 95.91%\n",
      "Average loss on the test data:  0.00019222490713000299\n",
      "Average accuracy on the test data: 95.92%\n",
      "Average loss on the test data:  0.0001890918493270874\n",
      "Average accuracy on the test data: 95.98%\n",
      "Average loss on the test data:  0.00018324858471751212\n",
      "Average accuracy on the test data: 96.05%\n",
      "Average loss on the test data:  0.00017509363740682602\n",
      "Average accuracy on the test data: 96.26%\n",
      "Average loss on the test data:  0.00016513977348804474\n",
      "Average accuracy on the test data: 96.39%\n",
      "Average loss on the test data:  0.00015401561409235002\n",
      "Average accuracy on the test data: 96.51%\n",
      "Average loss on the test data:  0.00014227543398737908\n",
      "Average accuracy on the test data: 96.68%\n",
      "Average loss on the test data:  0.0001304803229868412\n",
      "Average accuracy on the test data: 96.84%\n",
      "Average loss on the test data:  0.00011913031749427319\n",
      "Average accuracy on the test data: 96.98%\n",
      "Average loss on the test data:  0.00010851544626057148\n",
      "Average accuracy on the test data: 97.17%\n",
      "Average loss on the test data:  9.88715272396803e-05\n",
      "Average accuracy on the test data: 97.41%\n",
      "Average loss on the test data:  9.034550301730633e-05\n",
      "Average accuracy on the test data: 97.53%\n",
      "Average loss on the test data:  8.297148123383523e-05\n",
      "Average accuracy on the test data: 97.66%\n",
      "Average loss on the test data:  7.67132854089141e-05\n",
      "Average accuracy on the test data: 97.81%\n",
      "Average loss on the test data:  7.150983698666095e-05\n",
      "Average accuracy on the test data: 97.87%\n",
      "Average loss on the test data:  6.728881504386664e-05\n",
      "Average accuracy on the test data: 97.92%\n",
      "Average loss on the test data:  6.38772837817669e-05\n",
      "Average accuracy on the test data: 97.99%\n",
      "Average loss on the test data:  6.117951590567828e-05\n",
      "Average accuracy on the test data: 98.06%\n",
      "Average loss on the test data:  5.909228892996907e-05\n",
      "Average accuracy on the test data: 98.12%\n",
      "Average loss on the test data:  5.7550850417464974e-05\n",
      "Average accuracy on the test data: 98.20%\n",
      "Average loss on the test data:  5.65217487514019e-05\n",
      "Average accuracy on the test data: 98.25%\n",
      "Average loss on the test data:  5.5949596874415875e-05\n",
      "Average accuracy on the test data: 98.28%\n",
      "Average loss on the test data:  5.580261200666428e-05\n",
      "Average accuracy on the test data: 98.31%\n",
      "Average loss on the test data:  5.6022274401038885e-05\n",
      "Average accuracy on the test data: 98.28%\n",
      "Average loss on the test data:  5.658488692715764e-05\n",
      "Average accuracy on the test data: 98.27%\n"
     ]
    }
   ],
   "source": [
    "res_lin = get_path_linear(model_1, model_mid, model_2)"
   ]
  },
  {
   "cell_type": "markdown",
   "metadata": {},
   "source": [
    "**Task 6:** Plot loss on linear path and two-segment one on a single plot.\n",
    "\n",
    "**Hint:** if everything is correct the loss on two-segment one should be significantly smaller than of linear interpolation."
   ]
  },
  {
   "cell_type": "code",
   "execution_count": 50,
   "metadata": {},
   "outputs": [
    {
     "data": {
      "text/plain": [
       "<matplotlib.legend.Legend at 0x1307aafd0>"
      ]
     },
     "execution_count": 50,
     "metadata": {},
     "output_type": "execute_result"
    },
    {
     "data": {
      "image/png": "[encoded data removed]",
      "text/plain": [
       "<Figure size 432x288 with 1 Axes>"
      ]
     },
     "metadata": {
      "needs_background": "light"
     },
     "output_type": "display_data"
    }
   ],
   "source": [
    "plt.figure(figsize = (6,4))\n",
    "t = np.linspace(0, 1, 50)\n",
    "plt.plot(t, res, label = 'path')\n",
    "plt.plot(t, res_lin, label = 'linear interpolation')\n",
    "plt.legend()"
   ]
  },
  {
   "cell_type": "code",
   "execution_count": 212,
   "metadata": {},
   "outputs": [
    {
     "data": {
      "image/png": "[encoded data removed]",
      "text/plain": [
       "<Figure size 432x288 with 1 Axes>"
      ]
     },
     "metadata": {
      "needs_background": "light"
     },
     "output_type": "display_data"
    }
   ],
   "source": [
    "# => plot loss on paths"
   ]
  },
  {
   "cell_type": "markdown",
   "metadata": {},
   "source": [
    "### (Bonus part) \n",
    "\n",
    "Try to get similar results for the path defined by the **Bezier curve**. It has the following parametric form\n",
    "\n",
    "$$\n",
    "\\pi(t) = (1-t^2)\\theta_1 + t^2 \\theta_2 + 2t(1-t) \\theta, \\quad t \\in [0,1],\n",
    "$$\n",
    "\n",
    "$\\theta$ is parameter which needs to be trained to get a path of low loss."
   ]
  },
  {
   "cell_type": "code",
   "execution_count": null,
   "metadata": {},
   "outputs": [],
   "source": [
    "# => implementation follows"
   ]
  }
 ],
 "metadata": {
  "kernelspec": {
   "display_name": "Python 3",
   "language": "python",
   "name": "python3"
  },
  "language_info": {
   "codemirror_mode": {
    "name": "ipython",
    "version": 3
   },
   "file_extension": ".py",
   "mimetype": "text/x-python",
   "name": "python",
   "nbconvert_exporter": "python",
   "pygments_lexer": "ipython3",
   "version": "3.7.10"
  }
 },
 "nbformat": 4,
 "nbformat_minor": 4
}
