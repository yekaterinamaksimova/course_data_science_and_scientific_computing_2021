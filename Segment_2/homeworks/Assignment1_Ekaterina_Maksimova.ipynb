{
 "cells": [
  {
   "cell_type": "code",
   "execution_count": 2,
   "id": "5e4aefe0",
   "metadata": {},
   "outputs": [],
   "source": [
    "import numpy as np\n",
    "import matplotlib.pyplot as plt"
   ]
  },
  {
   "cell_type": "code",
   "execution_count": 3,
   "id": "316bc6fb",
   "metadata": {},
   "outputs": [],
   "source": [
    "#generate input\n",
    "n = 100\n",
    "x = np.random.uniform(100-0.5*10**(-5), 100+0.5*10**(-5), n)"
   ]
  },
  {
   "cell_type": "code",
   "execution_count": 4,
   "id": "fe4fda6c",
   "metadata": {},
   "outputs": [],
   "source": [
    "def standard_calc(x):\n",
    "    return np.mean(x), np.std(x), np.var(x)"
   ]
  },
  {
   "cell_type": "code",
   "execution_count": 5,
   "id": "38f2fcda",
   "metadata": {},
   "outputs": [],
   "source": [
    "def algorithm1(x):\n",
    "    n = x.size\n",
    "    mu = 0\n",
    "    sigma = 0\n",
    "    for i in range(n):\n",
    "        mu += x[i]/n\n",
    "    for i in range(n):\n",
    "        sigma += (x[i]-mu)**2/n \n",
    "    std = np.sqrt(sigma)\n",
    "    return mu, std, sigma"
   ]
  },
  {
   "cell_type": "code",
   "execution_count": 28,
   "id": "d5447139",
   "metadata": {},
   "outputs": [],
   "source": [
    "def algorithm2(x):\n",
    "    n = x.size\n",
    "    x2 = 0\n",
    "    mu = 0\n",
    "    for i in range(n):\n",
    "        mu += x[i]/n\n",
    "        x2 += (x[i])**2\n",
    "#     print(x2/n)\n",
    "#     print(mu**2)\n",
    "    sigma = x2/n - mu**2\n",
    "#     print(sigma)\n",
    "    std = np.sqrt(sigma)\n",
    "    return mu, std, sigma"
   ]
  },
  {
   "cell_type": "code",
   "execution_count": 42,
   "id": "b6a86ded",
   "metadata": {},
   "outputs": [],
   "source": [
    "def welfords_method(x):\n",
    "    n = x.size\n",
    "    mu = 0\n",
    "    sigma = 0\n",
    "    for k in range(n):\n",
    "        old_mu = mu\n",
    "        mu += (x[k]-mu)/(k+1)\n",
    "        sigma += (x[k]-mu)*(x[k]-old_mu)\n",
    "    sigma /= n\n",
    "    std = np.sqrt(sigma)\n",
    "    return mu, std, sigma"
   ]
  },
  {
   "cell_type": "code",
   "execution_count": 43,
   "id": "71f91d92",
   "metadata": {},
   "outputs": [
    {
     "name": "stdout",
     "output_type": "stream",
     "text": [
      "100.00000036341673 2.6898629104198495e-06 7.235362476852343e-12\n"
     ]
    }
   ],
   "source": [
    "np_mu, np_std, np_sigma = standard_calc(x)\n",
    "print(np_mu, np_std, np_sigma)"
   ]
  },
  {
   "cell_type": "code",
   "execution_count": 44,
   "id": "05bc6f6c",
   "metadata": {},
   "outputs": [
    {
     "name": "stdout",
     "output_type": "stream",
     "text": [
      "100.00000036341673 2.6898629104198495e-06 7.235362476852343e-12\n"
     ]
    }
   ],
   "source": [
    "mu1, std1, sigma1 = algorithm1(x)\n",
    "print(mu1, std1, sigma1)"
   ]
  },
  {
   "cell_type": "code",
   "execution_count": 45,
   "id": "aefa5c50",
   "metadata": {},
   "outputs": [
    {
     "name": "stdout",
     "output_type": "stream",
     "text": [
      "100.00000036341673 3.5683225505580343e-06 1.2732925824820995e-11\n"
     ]
    }
   ],
   "source": [
    "mu2, std2, sigma2 = algorithm2(x)\n",
    "print(mu2, std2, sigma2)"
   ]
  },
  {
   "cell_type": "code",
   "execution_count": 46,
   "id": "022a363a",
   "metadata": {},
   "outputs": [
    {
     "name": "stdout",
     "output_type": "stream",
     "text": [
      "100.00000036341676 2.6898629095007645e-06 7.235362471907918e-12\n"
     ]
    }
   ],
   "source": [
    "mu3, std3, sigma3 = welfords_method(x)\n",
    "print(mu3, std3, sigma3)"
   ]
  },
  {
   "cell_type": "markdown",
   "id": "a36ef8cd",
   "metadata": {},
   "source": [
    "#### how does result change with increasing number of samples"
   ]
  },
  {
   "cell_type": "code",
   "execution_count": 30,
   "id": "afc51697",
   "metadata": {},
   "outputs": [
    {
     "name": "stderr",
     "output_type": "stream",
     "text": [
      "/Users/ekaterinamaksimova/Programs/anaconda3/lib/python3.7/site-packages/ipykernel_launcher.py:12: RuntimeWarning: invalid value encountered in sqrt\n",
      "  if sys.path[0] == '':\n"
     ]
    }
   ],
   "source": [
    "n_N = 11\n",
    "N = 10**(np.linspace(0, 5, n_N))\n",
    "mus = np.empty((4,n_N))\n",
    "stds = np.empty((4,n_N))\n",
    "sigmas = np.empty((4,n_N))\n",
    "for i in range(n_N):\n",
    "    X = np.random.uniform(100-0.5*10**(-5), 100+0.5*10**(-5), int(N[i]))\n",
    "    mus[0,i], stds[0,i], sigmas[0,i] = standard_calc(X)\n",
    "    mus[1,i], stds[1,i], sigmas[1,i] = algorithm1(X)\n",
    "    mus[2,i], stds[2,i], sigmas[2,i] = algorithm2(X)\n",
    "    mus[3,i], stds[3,i], sigmas[3,i] = welfords_method(X)"
   ]
  },
  {
   "cell_type": "code",
   "execution_count": 31,
   "id": "2e2e9355",
   "metadata": {},
   "outputs": [],
   "source": [
    "labels = ['numpy','algorithm 1','algorithm 2', \"welford's method\"]\n",
    "ms = ['x','d', 'o','+']"
   ]
  },
  {
   "cell_type": "code",
   "execution_count": 32,
   "id": "5971d60c",
   "metadata": {},
   "outputs": [
    {
     "data": {
      "text/plain": [
       "Text(0.5, 0, 'N, number of samples')"
      ]
     },
     "execution_count": 32,
     "metadata": {},
     "output_type": "execute_result"
    },
    {
     "data": {
      "image/png": "[encoded data removed]",
      "text/plain": [
       "<Figure size 432x288 with 1 Axes>"
      ]
     },
     "metadata": {
      "needs_background": "light"
     },
     "output_type": "display_data"
    }
   ],
   "source": [
    "for i in range(4):\n",
    "    plt.plot(N, mus[i], ms[i],label = labels[i])\n",
    "plt.legend()\n",
    "plt.xscale('log')\n",
    "plt.title('Mean')\n",
    "plt.xlabel('N, number of samples')"
   ]
  },
  {
   "cell_type": "code",
   "execution_count": 33,
   "id": "7ec0c9df",
   "metadata": {},
   "outputs": [
    {
     "data": {
      "text/plain": [
       "Text(0.5, 0, 'N, number of samples')"
      ]
     },
     "execution_count": 33,
     "metadata": {},
     "output_type": "execute_result"
    },
    {
     "data": {
      "image/png": "[encoded data removed]",
      "text/plain": [
       "<Figure size 432x288 with 1 Axes>"
      ]
     },
     "metadata": {
      "needs_background": "light"
     },
     "output_type": "display_data"
    }
   ],
   "source": [
    "for i in range(4):\n",
    "    plt.plot(N, stds[i], ms[i], label = labels[i])\n",
    "plt.legend()\n",
    "plt.xscale('log')\n",
    "plt.title('Standard deviation')\n",
    "plt.xlabel('N, number of samples')"
   ]
  },
  {
   "cell_type": "code",
   "execution_count": 34,
   "id": "ae4ab7a8",
   "metadata": {},
   "outputs": [
    {
     "data": {
      "text/plain": [
       "Text(0.5, 0, 'N, number of samples')"
      ]
     },
     "execution_count": 34,
     "metadata": {},
     "output_type": "execute_result"
    },
    {
     "data": {
      "image/png": "[encoded data removed]",
      "text/plain": [
       "<Figure size 432x288 with 1 Axes>"
      ]
     },
     "metadata": {
      "needs_background": "light"
     },
     "output_type": "display_data"
    }
   ],
   "source": [
    "for i in range(4):\n",
    "    plt.plot(N,sigmas[i], ms[i],label = labels[i])\n",
    "plt.legend()\n",
    "plt.xscale('log')\n",
    "plt.title('Variance')\n",
    "plt.xlabel('N, number of samples')"
   ]
  },
  {
   "cell_type": "code",
   "execution_count": null,
   "id": "7c51699e",
   "metadata": {},
   "outputs": [],
   "source": []
  }
 ],
 "metadata": {
  "kernelspec": {
   "display_name": "Python 3",
   "language": "python",
   "name": "python3"
  },
  "language_info": {
   "codemirror_mode": {
    "name": "ipython",
    "version": 3
   },
   "file_extension": ".py",
   "mimetype": "text/x-python",
   "name": "python",
   "nbconvert_exporter": "python",
   "pygments_lexer": "ipython3",
   "version": "3.7.10"
  }
 },
 "nbformat": 4,
 "nbformat_minor": 5
}
